{
 "cells": [
  {
   "cell_type": "markdown",
   "id": "preceding-mechanics",
   "metadata": {},
   "source": [
    "# **Introduction**\n"
   ]
  },
  {
   "cell_type": "markdown",
   "id": "satisfactory-permit",
   "metadata": {},
   "source": [
    "**Customer churn is a critical concern for businesses across various industries, and the banking sector is no exception. The ability to predict and understand customer churn is essential for retaining valuable clients and optimizing business strategies.**\n",
    "\n",
    "**In this analysis, we aim to build a machine learning model to predict customer churn using a Bank Customer Churn dataset. The dataset encompasses 10,000 records and 14 features, including demographic information, financial metrics, and customer behavior indicators.**\n",
    "\n",
    "**The target variable, 'Churned' is binary, indicating whether a customer has churned (1) or not (0). Our objective is to explore and preprocess the data, perform exploratory data analysis (EDA), and leverage visualization techniques to gain insights into the factors influencing customer churn. Subsequently, we will employ various machine learning models to predict churn and evaluate their performance using accuracy metrics. Through this approach, we aim to provide actionable insights for the banking institution to enhance customer retention strategies and mitigate potential churn risks.**"
   ]
  },
  {
   "cell_type": "markdown",
   "id": "official-argentina",
   "metadata": {},
   "source": [
    "# **Importing the Required Libraries**"
   ]
  },
  {
   "cell_type": "code",
   "execution_count": 1,
   "id": "preceding-daniel",
   "metadata": {},
   "outputs": [],
   "source": [
    "import warnings\n",
    "warnings.filterwarnings('ignore')"
   ]
  },
  {
   "cell_type": "code",
   "execution_count": 1,
   "id": "nasty-hanging",
   "metadata": {},
   "outputs": [],
   "source": [
    "import pandas as pd\n",
    "import numpy as np\n",
    "import matplotlib.pyplot as plt\n",
    "import seaborn as sns\n",
    "\n",
    "from sklearn.model_selection import train_test_split\n",
    "from sklearn.preprocessing import StandardScaler\n",
    "from imblearn.over_sampling import SMOTE\n",
    "\n",
    "from sklearn.linear_model import LogisticRegression\n",
    "from sklearn.svm import SVC\n",
    "from sklearn.neighbors import KNeighborsClassifier\n",
    "from sklearn.naive_bayes import GaussianNB\n",
    "from sklearn.metrics import confusion_matrix,accuracy_score,classification_report\n",
    "from sklearn.metrics import precision_score,recall_score,f1_score"
   ]
  },
  {
   "cell_type": "markdown",
   "id": "given-novelty",
   "metadata": {},
   "source": [
    "# **Loading the Dataset**"
   ]
  },
  {
   "cell_type": "code",
   "execution_count": 3,
   "id": "virtual-jumping",
   "metadata": {},
   "outputs": [],
   "source": [
    "dataset = pd.read_csv(\"Churn_Modelling.csv\")"
   ]
  },
  {
   "cell_type": "markdown",
   "id": "equivalent-florida",
   "metadata": {},
   "source": [
    "# **Exploratory Data Analysis (EDA)**"
   ]
  },
  {
   "cell_type": "markdown",
   "id": "classified-facing",
   "metadata": {},
   "source": [
    "**EDA allows us to gain a comprehensive overview of the data's structure, uncover potential patterns, and identify key trends. Throughout the EDA process, we will analyze the distribution of individual features, investigate correlations, and explore any inherent relationships between variables.** \n",
    "\n",
    "**Visualizations will play a crucial role in providing a clear representation of the data, offering insights into customer behavior and identifying the factors that may contribute to customer churn.**"
   ]
  },
  {
   "cell_type": "code",
   "execution_count": 4,
   "id": "durable-placement",
   "metadata": {},
   "outputs": [
    {
     "data": {
      "text/html": [
       "<div>\n",
       "<style scoped>\n",
       "    .dataframe tbody tr th:only-of-type {\n",
       "        vertical-align: middle;\n",
       "    }\n",
       "\n",
       "    .dataframe tbody tr th {\n",
       "        vertical-align: top;\n",
       "    }\n",
       "\n",
       "    .dataframe thead th {\n",
       "        text-align: right;\n",
       "    }\n",
       "</style>\n",
       "<table border=\"1\" class=\"dataframe\">\n",
       "  <thead>\n",
       "    <tr style=\"text-align: right;\">\n",
       "      <th></th>\n",
       "      <th>RowNumber</th>\n",
       "      <th>CustomerId</th>\n",
       "      <th>Surname</th>\n",
       "      <th>CreditScore</th>\n",
       "      <th>Geography</th>\n",
       "      <th>Gender</th>\n",
       "      <th>Age</th>\n",
       "      <th>Tenure</th>\n",
       "      <th>Balance</th>\n",
       "      <th>NumOfProducts</th>\n",
       "      <th>HasCrCard</th>\n",
       "      <th>IsActiveMember</th>\n",
       "      <th>EstimatedSalary</th>\n",
       "      <th>Churned</th>\n",
       "    </tr>\n",
       "  </thead>\n",
       "  <tbody>\n",
       "    <tr>\n",
       "      <th>0</th>\n",
       "      <td>1</td>\n",
       "      <td>15634602</td>\n",
       "      <td>Hargrave</td>\n",
       "      <td>619</td>\n",
       "      <td>France</td>\n",
       "      <td>Female</td>\n",
       "      <td>42</td>\n",
       "      <td>2</td>\n",
       "      <td>0.00</td>\n",
       "      <td>1</td>\n",
       "      <td>1</td>\n",
       "      <td>1</td>\n",
       "      <td>101348.88</td>\n",
       "      <td>1</td>\n",
       "    </tr>\n",
       "    <tr>\n",
       "      <th>1</th>\n",
       "      <td>2</td>\n",
       "      <td>15647311</td>\n",
       "      <td>Hill</td>\n",
       "      <td>608</td>\n",
       "      <td>Spain</td>\n",
       "      <td>Female</td>\n",
       "      <td>41</td>\n",
       "      <td>1</td>\n",
       "      <td>83807.86</td>\n",
       "      <td>1</td>\n",
       "      <td>0</td>\n",
       "      <td>1</td>\n",
       "      <td>112542.58</td>\n",
       "      <td>0</td>\n",
       "    </tr>\n",
       "    <tr>\n",
       "      <th>2</th>\n",
       "      <td>3</td>\n",
       "      <td>15619304</td>\n",
       "      <td>Onio</td>\n",
       "      <td>502</td>\n",
       "      <td>France</td>\n",
       "      <td>Female</td>\n",
       "      <td>42</td>\n",
       "      <td>8</td>\n",
       "      <td>159660.80</td>\n",
       "      <td>3</td>\n",
       "      <td>1</td>\n",
       "      <td>0</td>\n",
       "      <td>113931.57</td>\n",
       "      <td>1</td>\n",
       "    </tr>\n",
       "    <tr>\n",
       "      <th>3</th>\n",
       "      <td>4</td>\n",
       "      <td>15701354</td>\n",
       "      <td>Boni</td>\n",
       "      <td>699</td>\n",
       "      <td>France</td>\n",
       "      <td>Female</td>\n",
       "      <td>39</td>\n",
       "      <td>1</td>\n",
       "      <td>0.00</td>\n",
       "      <td>2</td>\n",
       "      <td>0</td>\n",
       "      <td>0</td>\n",
       "      <td>93826.63</td>\n",
       "      <td>0</td>\n",
       "    </tr>\n",
       "    <tr>\n",
       "      <th>4</th>\n",
       "      <td>5</td>\n",
       "      <td>15737888</td>\n",
       "      <td>Mitchell</td>\n",
       "      <td>850</td>\n",
       "      <td>Spain</td>\n",
       "      <td>Female</td>\n",
       "      <td>43</td>\n",
       "      <td>2</td>\n",
       "      <td>125510.82</td>\n",
       "      <td>1</td>\n",
       "      <td>1</td>\n",
       "      <td>1</td>\n",
       "      <td>79084.10</td>\n",
       "      <td>0</td>\n",
       "    </tr>\n",
       "  </tbody>\n",
       "</table>\n",
       "</div>"
      ],
      "text/plain": [
       "   RowNumber  CustomerId   Surname  CreditScore Geography  Gender  Age  \\\n",
       "0          1    15634602  Hargrave          619    France  Female   42   \n",
       "1          2    15647311      Hill          608     Spain  Female   41   \n",
       "2          3    15619304      Onio          502    France  Female   42   \n",
       "3          4    15701354      Boni          699    France  Female   39   \n",
       "4          5    15737888  Mitchell          850     Spain  Female   43   \n",
       "\n",
       "   Tenure    Balance  NumOfProducts  HasCrCard  IsActiveMember  \\\n",
       "0       2       0.00              1          1               1   \n",
       "1       1   83807.86              1          0               1   \n",
       "2       8  159660.80              3          1               0   \n",
       "3       1       0.00              2          0               0   \n",
       "4       2  125510.82              1          1               1   \n",
       "\n",
       "   EstimatedSalary  Churned  \n",
       "0        101348.88        1  \n",
       "1        112542.58        0  \n",
       "2        113931.57        1  \n",
       "3         93826.63        0  \n",
       "4         79084.10        0  "
      ]
     },
     "execution_count": 4,
     "metadata": {},
     "output_type": "execute_result"
    }
   ],
   "source": [
    "# Checking the first 5 rows\n",
    "dataset.head()"
   ]
  },
  {
   "cell_type": "code",
   "execution_count": 5,
   "id": "closed-battery",
   "metadata": {},
   "outputs": [
    {
     "data": {
      "text/html": [
       "<div>\n",
       "<style scoped>\n",
       "    .dataframe tbody tr th:only-of-type {\n",
       "        vertical-align: middle;\n",
       "    }\n",
       "\n",
       "    .dataframe tbody tr th {\n",
       "        vertical-align: top;\n",
       "    }\n",
       "\n",
       "    .dataframe thead th {\n",
       "        text-align: right;\n",
       "    }\n",
       "</style>\n",
       "<table border=\"1\" class=\"dataframe\">\n",
       "  <thead>\n",
       "    <tr style=\"text-align: right;\">\n",
       "      <th></th>\n",
       "      <th>RowNumber</th>\n",
       "      <th>CustomerId</th>\n",
       "      <th>Surname</th>\n",
       "      <th>CreditScore</th>\n",
       "      <th>Geography</th>\n",
       "      <th>Gender</th>\n",
       "      <th>Age</th>\n",
       "      <th>Tenure</th>\n",
       "      <th>Balance</th>\n",
       "      <th>NumOfProducts</th>\n",
       "      <th>HasCrCard</th>\n",
       "      <th>IsActiveMember</th>\n",
       "      <th>EstimatedSalary</th>\n",
       "      <th>Churned</th>\n",
       "    </tr>\n",
       "  </thead>\n",
       "  <tbody>\n",
       "    <tr>\n",
       "      <th>9995</th>\n",
       "      <td>9996</td>\n",
       "      <td>15606229</td>\n",
       "      <td>Obijiaku</td>\n",
       "      <td>771</td>\n",
       "      <td>France</td>\n",
       "      <td>Male</td>\n",
       "      <td>39</td>\n",
       "      <td>5</td>\n",
       "      <td>0.00</td>\n",
       "      <td>2</td>\n",
       "      <td>1</td>\n",
       "      <td>0</td>\n",
       "      <td>96270.64</td>\n",
       "      <td>0</td>\n",
       "    </tr>\n",
       "    <tr>\n",
       "      <th>9996</th>\n",
       "      <td>9997</td>\n",
       "      <td>15569892</td>\n",
       "      <td>Johnstone</td>\n",
       "      <td>516</td>\n",
       "      <td>France</td>\n",
       "      <td>Male</td>\n",
       "      <td>35</td>\n",
       "      <td>10</td>\n",
       "      <td>57369.61</td>\n",
       "      <td>1</td>\n",
       "      <td>1</td>\n",
       "      <td>1</td>\n",
       "      <td>101699.77</td>\n",
       "      <td>0</td>\n",
       "    </tr>\n",
       "    <tr>\n",
       "      <th>9997</th>\n",
       "      <td>9998</td>\n",
       "      <td>15584532</td>\n",
       "      <td>Liu</td>\n",
       "      <td>709</td>\n",
       "      <td>France</td>\n",
       "      <td>Female</td>\n",
       "      <td>36</td>\n",
       "      <td>7</td>\n",
       "      <td>0.00</td>\n",
       "      <td>1</td>\n",
       "      <td>0</td>\n",
       "      <td>1</td>\n",
       "      <td>42085.58</td>\n",
       "      <td>1</td>\n",
       "    </tr>\n",
       "    <tr>\n",
       "      <th>9998</th>\n",
       "      <td>9999</td>\n",
       "      <td>15682355</td>\n",
       "      <td>Sabbatini</td>\n",
       "      <td>772</td>\n",
       "      <td>Germany</td>\n",
       "      <td>Male</td>\n",
       "      <td>42</td>\n",
       "      <td>3</td>\n",
       "      <td>75075.31</td>\n",
       "      <td>2</td>\n",
       "      <td>1</td>\n",
       "      <td>0</td>\n",
       "      <td>92888.52</td>\n",
       "      <td>1</td>\n",
       "    </tr>\n",
       "    <tr>\n",
       "      <th>9999</th>\n",
       "      <td>10000</td>\n",
       "      <td>15628319</td>\n",
       "      <td>Walker</td>\n",
       "      <td>792</td>\n",
       "      <td>France</td>\n",
       "      <td>Female</td>\n",
       "      <td>28</td>\n",
       "      <td>4</td>\n",
       "      <td>130142.79</td>\n",
       "      <td>1</td>\n",
       "      <td>1</td>\n",
       "      <td>0</td>\n",
       "      <td>38190.78</td>\n",
       "      <td>0</td>\n",
       "    </tr>\n",
       "  </tbody>\n",
       "</table>\n",
       "</div>"
      ],
      "text/plain": [
       "      RowNumber  CustomerId    Surname  CreditScore Geography  Gender  Age  \\\n",
       "9995       9996    15606229   Obijiaku          771    France    Male   39   \n",
       "9996       9997    15569892  Johnstone          516    France    Male   35   \n",
       "9997       9998    15584532        Liu          709    France  Female   36   \n",
       "9998       9999    15682355  Sabbatini          772   Germany    Male   42   \n",
       "9999      10000    15628319     Walker          792    France  Female   28   \n",
       "\n",
       "      Tenure    Balance  NumOfProducts  HasCrCard  IsActiveMember  \\\n",
       "9995       5       0.00              2          1               0   \n",
       "9996      10   57369.61              1          1               1   \n",
       "9997       7       0.00              1          0               1   \n",
       "9998       3   75075.31              2          1               0   \n",
       "9999       4  130142.79              1          1               0   \n",
       "\n",
       "      EstimatedSalary  Churned  \n",
       "9995         96270.64        0  \n",
       "9996        101699.77        0  \n",
       "9997         42085.58        1  \n",
       "9998         92888.52        1  \n",
       "9999         38190.78        0  "
      ]
     },
     "execution_count": 5,
     "metadata": {},
     "output_type": "execute_result"
    }
   ],
   "source": [
    "# Checking the last 5 rows\n",
    "dataset.tail()"
   ]
  },
  {
   "cell_type": "code",
   "execution_count": 6,
   "id": "swedish-warner",
   "metadata": {},
   "outputs": [
    {
     "data": {
      "text/plain": [
       "(10000, 14)"
      ]
     },
     "execution_count": 6,
     "metadata": {},
     "output_type": "execute_result"
    }
   ],
   "source": [
    "dataset.shape"
   ]
  },
  {
   "cell_type": "markdown",
   "id": "motivated-mileage",
   "metadata": {},
   "source": [
    "### **Checking Null Values and Duplicates in the Dataset**"
   ]
  },
  {
   "cell_type": "markdown",
   "id": "molecular-mozambique",
   "metadata": {},
   "source": [
    "**Before moving further with the analysis, it is essential to ensure the integrity of our dataset. We will begin by examining for any missing values and identifying potential duplicates. This step is crucial for maintaining data quality and setting the foundation for a robust exploratory data analysis (EDA) and subsequent machine learning model development.**"
   ]
  },
  {
   "cell_type": "code",
   "execution_count": 7,
   "id": "dietary-salon",
   "metadata": {},
   "outputs": [
    {
     "data": {
      "text/plain": [
       "RowNumber          0\n",
       "CustomerId         0\n",
       "Surname            0\n",
       "CreditScore        0\n",
       "Geography          0\n",
       "Gender             0\n",
       "Age                0\n",
       "Tenure             0\n",
       "Balance            0\n",
       "NumOfProducts      0\n",
       "HasCrCard          0\n",
       "IsActiveMember     0\n",
       "EstimatedSalary    0\n",
       "Churned            0\n",
       "dtype: int64"
      ]
     },
     "execution_count": 7,
     "metadata": {},
     "output_type": "execute_result"
    }
   ],
   "source": [
    "# checking null values in the dataset\n",
    "dataset.isna().sum()"
   ]
  },
  {
   "cell_type": "code",
   "execution_count": 8,
   "id": "young-source",
   "metadata": {},
   "outputs": [
    {
     "data": {
      "text/plain": [
       "0"
      ]
     },
     "execution_count": 8,
     "metadata": {},
     "output_type": "execute_result"
    }
   ],
   "source": [
    "# Checking duplicates in the dataset\n",
    "dataset.duplicated().sum()"
   ]
  },
  {
   "cell_type": "markdown",
   "id": "smaller-bruce",
   "metadata": {},
   "source": [
    "**Our dataset does not have any null values and duplicates.**\n",
    "\n",
    "**Now we can proceed with confidence, knowing that our dataset is clean and ready for further analysis.**"
   ]
  },
  {
   "cell_type": "markdown",
   "id": "straight-brazilian",
   "metadata": {},
   "source": [
    "**Next, Lets check the names and some additional information about all the columns in our dataset.**"
   ]
  },
  {
   "cell_type": "code",
   "execution_count": 9,
   "id": "engaged-telling",
   "metadata": {},
   "outputs": [
    {
     "data": {
      "text/plain": [
       "Index(['RowNumber', 'CustomerId', 'Surname', 'CreditScore', 'Geography',\n",
       "       'Gender', 'Age', 'Tenure', 'Balance', 'NumOfProducts', 'HasCrCard',\n",
       "       'IsActiveMember', 'EstimatedSalary', 'Churned'],\n",
       "      dtype='object')"
      ]
     },
     "execution_count": 9,
     "metadata": {},
     "output_type": "execute_result"
    }
   ],
   "source": [
    "dataset.columns"
   ]
  },
  {
   "cell_type": "code",
   "execution_count": 10,
   "id": "complicated-product",
   "metadata": {},
   "outputs": [
    {
     "data": {
      "text/html": [
       "<div>\n",
       "<style scoped>\n",
       "    .dataframe tbody tr th:only-of-type {\n",
       "        vertical-align: middle;\n",
       "    }\n",
       "\n",
       "    .dataframe tbody tr th {\n",
       "        vertical-align: top;\n",
       "    }\n",
       "\n",
       "    .dataframe thead th {\n",
       "        text-align: right;\n",
       "    }\n",
       "</style>\n",
       "<table border=\"1\" class=\"dataframe\">\n",
       "  <thead>\n",
       "    <tr style=\"text-align: right;\">\n",
       "      <th></th>\n",
       "      <th>RowNumber</th>\n",
       "      <th>CustomerId</th>\n",
       "      <th>CreditScore</th>\n",
       "      <th>Age</th>\n",
       "      <th>Tenure</th>\n",
       "      <th>Balance</th>\n",
       "      <th>NumOfProducts</th>\n",
       "      <th>HasCrCard</th>\n",
       "      <th>IsActiveMember</th>\n",
       "      <th>EstimatedSalary</th>\n",
       "      <th>Churned</th>\n",
       "    </tr>\n",
       "  </thead>\n",
       "  <tbody>\n",
       "    <tr>\n",
       "      <th>count</th>\n",
       "      <td>10000.00000</td>\n",
       "      <td>1.000000e+04</td>\n",
       "      <td>10000.000000</td>\n",
       "      <td>10000.000000</td>\n",
       "      <td>10000.000000</td>\n",
       "      <td>10000.000000</td>\n",
       "      <td>10000.000000</td>\n",
       "      <td>10000.00000</td>\n",
       "      <td>10000.000000</td>\n",
       "      <td>10000.000000</td>\n",
       "      <td>10000.000000</td>\n",
       "    </tr>\n",
       "    <tr>\n",
       "      <th>mean</th>\n",
       "      <td>5000.50000</td>\n",
       "      <td>1.569094e+07</td>\n",
       "      <td>650.528800</td>\n",
       "      <td>38.921800</td>\n",
       "      <td>5.012800</td>\n",
       "      <td>76485.889288</td>\n",
       "      <td>1.530200</td>\n",
       "      <td>0.70550</td>\n",
       "      <td>0.515100</td>\n",
       "      <td>100090.239881</td>\n",
       "      <td>0.203700</td>\n",
       "    </tr>\n",
       "    <tr>\n",
       "      <th>std</th>\n",
       "      <td>2886.89568</td>\n",
       "      <td>7.193619e+04</td>\n",
       "      <td>96.653299</td>\n",
       "      <td>10.487806</td>\n",
       "      <td>2.892174</td>\n",
       "      <td>62397.405202</td>\n",
       "      <td>0.581654</td>\n",
       "      <td>0.45584</td>\n",
       "      <td>0.499797</td>\n",
       "      <td>57510.492818</td>\n",
       "      <td>0.402769</td>\n",
       "    </tr>\n",
       "    <tr>\n",
       "      <th>min</th>\n",
       "      <td>1.00000</td>\n",
       "      <td>1.556570e+07</td>\n",
       "      <td>350.000000</td>\n",
       "      <td>18.000000</td>\n",
       "      <td>0.000000</td>\n",
       "      <td>0.000000</td>\n",
       "      <td>1.000000</td>\n",
       "      <td>0.00000</td>\n",
       "      <td>0.000000</td>\n",
       "      <td>11.580000</td>\n",
       "      <td>0.000000</td>\n",
       "    </tr>\n",
       "    <tr>\n",
       "      <th>25%</th>\n",
       "      <td>2500.75000</td>\n",
       "      <td>1.562853e+07</td>\n",
       "      <td>584.000000</td>\n",
       "      <td>32.000000</td>\n",
       "      <td>3.000000</td>\n",
       "      <td>0.000000</td>\n",
       "      <td>1.000000</td>\n",
       "      <td>0.00000</td>\n",
       "      <td>0.000000</td>\n",
       "      <td>51002.110000</td>\n",
       "      <td>0.000000</td>\n",
       "    </tr>\n",
       "    <tr>\n",
       "      <th>50%</th>\n",
       "      <td>5000.50000</td>\n",
       "      <td>1.569074e+07</td>\n",
       "      <td>652.000000</td>\n",
       "      <td>37.000000</td>\n",
       "      <td>5.000000</td>\n",
       "      <td>97198.540000</td>\n",
       "      <td>1.000000</td>\n",
       "      <td>1.00000</td>\n",
       "      <td>1.000000</td>\n",
       "      <td>100193.915000</td>\n",
       "      <td>0.000000</td>\n",
       "    </tr>\n",
       "    <tr>\n",
       "      <th>75%</th>\n",
       "      <td>7500.25000</td>\n",
       "      <td>1.575323e+07</td>\n",
       "      <td>718.000000</td>\n",
       "      <td>44.000000</td>\n",
       "      <td>7.000000</td>\n",
       "      <td>127644.240000</td>\n",
       "      <td>2.000000</td>\n",
       "      <td>1.00000</td>\n",
       "      <td>1.000000</td>\n",
       "      <td>149388.247500</td>\n",
       "      <td>0.000000</td>\n",
       "    </tr>\n",
       "    <tr>\n",
       "      <th>max</th>\n",
       "      <td>10000.00000</td>\n",
       "      <td>1.581569e+07</td>\n",
       "      <td>850.000000</td>\n",
       "      <td>92.000000</td>\n",
       "      <td>10.000000</td>\n",
       "      <td>250898.090000</td>\n",
       "      <td>4.000000</td>\n",
       "      <td>1.00000</td>\n",
       "      <td>1.000000</td>\n",
       "      <td>199992.480000</td>\n",
       "      <td>1.000000</td>\n",
       "    </tr>\n",
       "  </tbody>\n",
       "</table>\n",
       "</div>"
      ],
      "text/plain": [
       "         RowNumber    CustomerId   CreditScore           Age        Tenure  \\\n",
       "count  10000.00000  1.000000e+04  10000.000000  10000.000000  10000.000000   \n",
       "mean    5000.50000  1.569094e+07    650.528800     38.921800      5.012800   \n",
       "std     2886.89568  7.193619e+04     96.653299     10.487806      2.892174   \n",
       "min        1.00000  1.556570e+07    350.000000     18.000000      0.000000   \n",
       "25%     2500.75000  1.562853e+07    584.000000     32.000000      3.000000   \n",
       "50%     5000.50000  1.569074e+07    652.000000     37.000000      5.000000   \n",
       "75%     7500.25000  1.575323e+07    718.000000     44.000000      7.000000   \n",
       "max    10000.00000  1.581569e+07    850.000000     92.000000     10.000000   \n",
       "\n",
       "             Balance  NumOfProducts    HasCrCard  IsActiveMember  \\\n",
       "count   10000.000000   10000.000000  10000.00000    10000.000000   \n",
       "mean    76485.889288       1.530200      0.70550        0.515100   \n",
       "std     62397.405202       0.581654      0.45584        0.499797   \n",
       "min         0.000000       1.000000      0.00000        0.000000   \n",
       "25%         0.000000       1.000000      0.00000        0.000000   \n",
       "50%     97198.540000       1.000000      1.00000        1.000000   \n",
       "75%    127644.240000       2.000000      1.00000        1.000000   \n",
       "max    250898.090000       4.000000      1.00000        1.000000   \n",
       "\n",
       "       EstimatedSalary       Churned  \n",
       "count     10000.000000  10000.000000  \n",
       "mean     100090.239881      0.203700  \n",
       "std       57510.492818      0.402769  \n",
       "min          11.580000      0.000000  \n",
       "25%       51002.110000      0.000000  \n",
       "50%      100193.915000      0.000000  \n",
       "75%      149388.247500      0.000000  \n",
       "max      199992.480000      1.000000  "
      ]
     },
     "execution_count": 10,
     "metadata": {},
     "output_type": "execute_result"
    }
   ],
   "source": [
    "# Getting more information about the columns\n",
    "dataset.describe()"
   ]
  },
  {
   "cell_type": "code",
   "execution_count": 11,
   "id": "broadband-eight",
   "metadata": {},
   "outputs": [
    {
     "name": "stdout",
     "output_type": "stream",
     "text": [
      "<class 'pandas.core.frame.DataFrame'>\n",
      "RangeIndex: 10000 entries, 0 to 9999\n",
      "Data columns (total 14 columns):\n",
      " #   Column           Non-Null Count  Dtype  \n",
      "---  ------           --------------  -----  \n",
      " 0   RowNumber        10000 non-null  int64  \n",
      " 1   CustomerId       10000 non-null  int64  \n",
      " 2   Surname          10000 non-null  object \n",
      " 3   CreditScore      10000 non-null  int64  \n",
      " 4   Geography        10000 non-null  object \n",
      " 5   Gender           10000 non-null  object \n",
      " 6   Age              10000 non-null  int64  \n",
      " 7   Tenure           10000 non-null  int64  \n",
      " 8   Balance          10000 non-null  float64\n",
      " 9   NumOfProducts    10000 non-null  int64  \n",
      " 10  HasCrCard        10000 non-null  int64  \n",
      " 11  IsActiveMember   10000 non-null  int64  \n",
      " 12  EstimatedSalary  10000 non-null  float64\n",
      " 13  Churned          10000 non-null  int64  \n",
      "dtypes: float64(2), int64(9), object(3)\n",
      "memory usage: 1.1+ MB\n"
     ]
    }
   ],
   "source": [
    "# Checking the datatypes of each column\n",
    "dataset.info()"
   ]
  },
  {
   "cell_type": "markdown",
   "id": "framed-pregnancy",
   "metadata": {},
   "source": [
    "**From the above steps, we observed that 3 columns in our dataset have non-numerical data types. Additionally, some columns seem to lack meaningful information. We will address these issues shortly.**"
   ]
  },
  {
   "cell_type": "markdown",
   "id": "vulnerable-premium",
   "metadata": {},
   "source": [
    "**Now, our target variable is \"Churned\".**\n",
    "\n",
    "**Let's check how the target variable is distributed.**"
   ]
  },
  {
   "cell_type": "code",
   "execution_count": 12,
   "id": "functioning-press",
   "metadata": {},
   "outputs": [
    {
     "data": {
      "text/plain": [
       "0    7963\n",
       "1    2037\n",
       "Name: Churned, dtype: int64"
      ]
     },
     "execution_count": 12,
     "metadata": {},
     "output_type": "execute_result"
    }
   ],
   "source": [
    "dataset['Churned'].value_counts()"
   ]
  },
  {
   "cell_type": "code",
   "execution_count": 13,
   "id": "technical-gather",
   "metadata": {},
   "outputs": [
    {
     "data": {
      "text/plain": [
       "<AxesSubplot:xlabel='Churned', ylabel='count'>"
      ]
     },
     "execution_count": 13,
     "metadata": {},
     "output_type": "execute_result"
    },
    {
     "data": {
      "image/png": "[encoded data removed]",
      "text/plain": [
       "<Figure size 432x288 with 1 Axes>"
      ]
     },
     "metadata": {
      "needs_background": "light"
     },
     "output_type": "display_data"
    }
   ],
   "source": [
    "# Distribution of Target Variable\n",
    "sns.countplot(x=dataset['Churned'])"
   ]
  },
  {
   "cell_type": "markdown",
   "id": "animal-donna",
   "metadata": {},
   "source": [
    "**In the plot above, it is evident that the data is quite imbalanced. Our target variable 'Churned' exhibits class imbalance, with one class dominating the other. To address this issue and ensure balanced representation during model training, we will implement appropriate sampling techniques later.**"
   ]
  },
  {
   "cell_type": "markdown",
   "id": "existing-location",
   "metadata": {},
   "source": [
    "**Let's delve deeper into our dataset through additional visualizations. This step aims to enhance our understanding of the data, unveil patterns, and extract valuable insights that will contribute to the success of our machine learning model.**"
   ]
  },
  {
   "cell_type": "code",
   "execution_count": 14,
   "id": "greater-finding",
   "metadata": {},
   "outputs": [
    {
     "data": {
      "image/png": "[encoded data removed]",
      "text/plain": [
       "<Figure size 432x288 with 1 Axes>"
      ]
     },
     "metadata": {
      "needs_background": "light"
     },
     "output_type": "display_data"
    }
   ],
   "source": [
    "# Distribution of Geography\n",
    "sns.countplot(x='Geography',hue='Churned',data=dataset)\n",
    "plt.title(\"Customer Count for Each Country\")\n",
    "plt.show()"
   ]
  },
  {
   "cell_type": "markdown",
   "id": "sporting-shock",
   "metadata": {},
   "source": [
    "**The above plot reveals a substantial customer presence in France, surpassing other regions by a significant margin.**"
   ]
  },
  {
   "cell_type": "code",
   "execution_count": 15,
   "id": "guilty-weather",
   "metadata": {},
   "outputs": [
    {
     "data": {
      "image/png": "[encoded data removed]",
      "text/plain": [
       "<Figure size 432x288 with 1 Axes>"
      ]
     },
     "metadata": {
      "needs_background": "light"
     },
     "output_type": "display_data"
    }
   ],
   "source": [
    "amp=sns.countplot(x = 'IsActiveMember', hue = 'Churned', data = dataset)"
   ]
  },
  {
   "cell_type": "code",
   "execution_count": 16,
   "id": "harmful-colorado",
   "metadata": {},
   "outputs": [
    {
     "data": {
      "text/plain": [
       "<AxesSubplot:xlabel='HasCrCard', ylabel='count'>"
      ]
     },
     "execution_count": 16,
     "metadata": {},
     "output_type": "execute_result"
    },
    {
     "data": {
      "image/png": "[encoded data removed]",
      "text/plain": [
       "<Figure size 432x288 with 1 Axes>"
      ]
     },
     "metadata": {
      "needs_background": "light"
     },
     "output_type": "display_data"
    }
   ],
   "source": [
    "sns.countplot(x = 'HasCrCard', hue = 'Churned', data = dataset)"
   ]
  },
  {
   "cell_type": "code",
   "execution_count": 17,
   "id": "collected-logan",
   "metadata": {},
   "outputs": [
    {
     "data": {
      "text/plain": [
       "<AxesSubplot:xlabel='Tenure', ylabel='count'>"
      ]
     },
     "execution_count": 17,
     "metadata": {},
     "output_type": "execute_result"
    },
    {
     "data": {
      "image/png": "[encoded data removed]",
      "text/plain": [
       "<Figure size 432x288 with 1 Axes>"
      ]
     },
     "metadata": {
      "needs_background": "light"
     },
     "output_type": "display_data"
    }
   ],
   "source": [
    "sns.countplot(x='Tenure',data=dataset,hue='Churned')"
   ]
  },
  {
   "cell_type": "code",
   "execution_count": 18,
   "id": "irish-admission",
   "metadata": {},
   "outputs": [
    {
     "data": {
      "text/plain": [
       "<AxesSubplot:xlabel='Age', ylabel='Count'>"
      ]
     },
     "execution_count": 18,
     "metadata": {},
     "output_type": "execute_result"
    },
    {
     "data": {
      "image/png": "[encoded data removed]",
      "text/plain": [
       "<Figure size 432x288 with 1 Axes>"
      ]
     },
     "metadata": {
      "needs_background": "light"
     },
     "output_type": "display_data"
    }
   ],
   "source": [
    "sns.histplot(x=dataset['Age'], bins=30,data=dataset, kde=True,hue='Churned')"
   ]
  },
  {
   "cell_type": "code",
   "execution_count": null,
   "id": "absent-adams",
   "metadata": {},
   "outputs": [],
   "source": []
  },
  {
   "cell_type": "code",
   "execution_count": 19,
   "id": "essential-appreciation",
   "metadata": {},
   "outputs": [
    {
     "data": {
      "text/plain": [
       "<AxesSubplot:>"
      ]
     },
     "execution_count": 19,
     "metadata": {},
     "output_type": "execute_result"
    },
    {
     "data": {
      "image/png": "[encoded data removed]",
      "text/plain": [
       "<Figure size 1080x504 with 2 Axes>"
      ]
     },
     "metadata": {
      "needs_background": "light"
     },
     "output_type": "display_data"
    }
   ],
   "source": [
    "plt.figure(figsize=(15,7))\n",
    "sns.heatmap(dataset.corr(), annot=True , cmap=\"coolwarm\")"
   ]
  },
  {
   "cell_type": "markdown",
   "id": "conscious-executive",
   "metadata": {},
   "source": [
    "**Upon inspecting the heatmap, we can see that there is no significant correlation observed among the columns. As a result, no columns will be dropped solely based on correlation.**"
   ]
  },
  {
   "cell_type": "markdown",
   "id": "settled-charter",
   "metadata": {},
   "source": [
    "### **Insights that we got from EDA :**"
   ]
  },
  {
   "cell_type": "markdown",
   "id": "understood-union",
   "metadata": {},
   "source": [
    "**1. No null values or duplicates were found in the dataset, ensuring its reliability.**\n",
    "\n",
    "**2. There are some columns that don't provide any useful information and hence they won't contribute much to the predictions. Therefore, we will drop the following columns during Preprocessing : RowNumber, CustomerId, Surname.**\n",
    "\n",
    "**3. The \"Geography\" and \"Gender\" columns are categorical variables in our dataset. We will use one-hot encoding to convert these categorical features into a numerical format.** \n",
    "\n",
    "**4. To ensure consistent scales for numerical features, we will employ StandardScaler during preprocessing.**\n",
    "\n",
    "**5. The target variable, \"Churned\" exhibits imbalance. To address this, we will apply oversampling using SMOTE, ensuring fair representation for model training.**\n",
    "\n"
   ]
  },
  {
   "cell_type": "markdown",
   "id": "greek-hometown",
   "metadata": {},
   "source": [
    "# **Preprocessing**"
   ]
  },
  {
   "cell_type": "markdown",
   "id": "dedicated-bracelet",
   "metadata": {},
   "source": [
    "**First, Let's drop the columns that don't provide any useful information for our predictions**"
   ]
  },
  {
   "cell_type": "code",
   "execution_count": 20,
   "id": "computational-newman",
   "metadata": {},
   "outputs": [],
   "source": [
    "# Dropping irrelevant columns : RowNumber, CustomerId, Surname.\n",
    "\n",
    "dataset = dataset.drop(['RowNumber', 'CustomerId', 'Surname'], axis=1)"
   ]
  },
  {
   "cell_type": "code",
   "execution_count": 21,
   "id": "ultimate-sweet",
   "metadata": {},
   "outputs": [
    {
     "data": {
      "text/html": [
       "<div>\n",
       "<style scoped>\n",
       "    .dataframe tbody tr th:only-of-type {\n",
       "        vertical-align: middle;\n",
       "    }\n",
       "\n",
       "    .dataframe tbody tr th {\n",
       "        vertical-align: top;\n",
       "    }\n",
       "\n",
       "    .dataframe thead th {\n",
       "        text-align: right;\n",
       "    }\n",
       "</style>\n",
       "<table border=\"1\" class=\"dataframe\">\n",
       "  <thead>\n",
       "    <tr style=\"text-align: right;\">\n",
       "      <th></th>\n",
       "      <th>CreditScore</th>\n",
       "      <th>Geography</th>\n",
       "      <th>Gender</th>\n",
       "      <th>Age</th>\n",
       "      <th>Tenure</th>\n",
       "      <th>Balance</th>\n",
       "      <th>NumOfProducts</th>\n",
       "      <th>HasCrCard</th>\n",
       "      <th>IsActiveMember</th>\n",
       "      <th>EstimatedSalary</th>\n",
       "      <th>Churned</th>\n",
       "    </tr>\n",
       "  </thead>\n",
       "  <tbody>\n",
       "    <tr>\n",
       "      <th>0</th>\n",
       "      <td>619</td>\n",
       "      <td>France</td>\n",
       "      <td>Female</td>\n",
       "      <td>42</td>\n",
       "      <td>2</td>\n",
       "      <td>0.00</td>\n",
       "      <td>1</td>\n",
       "      <td>1</td>\n",
       "      <td>1</td>\n",
       "      <td>101348.88</td>\n",
       "      <td>1</td>\n",
       "    </tr>\n",
       "    <tr>\n",
       "      <th>1</th>\n",
       "      <td>608</td>\n",
       "      <td>Spain</td>\n",
       "      <td>Female</td>\n",
       "      <td>41</td>\n",
       "      <td>1</td>\n",
       "      <td>83807.86</td>\n",
       "      <td>1</td>\n",
       "      <td>0</td>\n",
       "      <td>1</td>\n",
       "      <td>112542.58</td>\n",
       "      <td>0</td>\n",
       "    </tr>\n",
       "    <tr>\n",
       "      <th>2</th>\n",
       "      <td>502</td>\n",
       "      <td>France</td>\n",
       "      <td>Female</td>\n",
       "      <td>42</td>\n",
       "      <td>8</td>\n",
       "      <td>159660.80</td>\n",
       "      <td>3</td>\n",
       "      <td>1</td>\n",
       "      <td>0</td>\n",
       "      <td>113931.57</td>\n",
       "      <td>1</td>\n",
       "    </tr>\n",
       "    <tr>\n",
       "      <th>3</th>\n",
       "      <td>699</td>\n",
       "      <td>France</td>\n",
       "      <td>Female</td>\n",
       "      <td>39</td>\n",
       "      <td>1</td>\n",
       "      <td>0.00</td>\n",
       "      <td>2</td>\n",
       "      <td>0</td>\n",
       "      <td>0</td>\n",
       "      <td>93826.63</td>\n",
       "      <td>0</td>\n",
       "    </tr>\n",
       "    <tr>\n",
       "      <th>4</th>\n",
       "      <td>850</td>\n",
       "      <td>Spain</td>\n",
       "      <td>Female</td>\n",
       "      <td>43</td>\n",
       "      <td>2</td>\n",
       "      <td>125510.82</td>\n",
       "      <td>1</td>\n",
       "      <td>1</td>\n",
       "      <td>1</td>\n",
       "      <td>79084.10</td>\n",
       "      <td>0</td>\n",
       "    </tr>\n",
       "  </tbody>\n",
       "</table>\n",
       "</div>"
      ],
      "text/plain": [
       "   CreditScore Geography  Gender  Age  Tenure    Balance  NumOfProducts  \\\n",
       "0          619    France  Female   42       2       0.00              1   \n",
       "1          608     Spain  Female   41       1   83807.86              1   \n",
       "2          502    France  Female   42       8  159660.80              3   \n",
       "3          699    France  Female   39       1       0.00              2   \n",
       "4          850     Spain  Female   43       2  125510.82              1   \n",
       "\n",
       "   HasCrCard  IsActiveMember  EstimatedSalary  Churned  \n",
       "0          1               1        101348.88        1  \n",
       "1          0               1        112542.58        0  \n",
       "2          1               0        113931.57        1  \n",
       "3          0               0         93826.63        0  \n",
       "4          1               1         79084.10        0  "
      ]
     },
     "execution_count": 21,
     "metadata": {},
     "output_type": "execute_result"
    }
   ],
   "source": [
    "# Lets print the first 5 rows and check if the irrelevant columns are dropped or not.\n",
    "dataset.head()"
   ]
  },
  {
   "cell_type": "markdown",
   "id": "fundamental-evolution",
   "metadata": {},
   "source": [
    "### **Encoding Categorical Variables**"
   ]
  },
  {
   "cell_type": "markdown",
   "id": "light-league",
   "metadata": {},
   "source": [
    "**To convert categorical data into numerical, we will use the one-hot encoding technique.**\n",
    "\n",
    "**This process involves assigning binary numeric values to each unique class present in columns with categorical data. By creating binary columns for each category, we ensure that our models can effectively interpret and utilize the categorical information during training and prediction.**"
   ]
  },
  {
   "cell_type": "code",
   "execution_count": 22,
   "id": "corporate-relationship",
   "metadata": {},
   "outputs": [],
   "source": [
    "dataset = pd.get_dummies(dataset, drop_first=True)"
   ]
  },
  {
   "cell_type": "code",
   "execution_count": 23,
   "id": "driven-highlight",
   "metadata": {},
   "outputs": [
    {
     "data": {
      "text/html": [
       "<div>\n",
       "<style scoped>\n",
       "    .dataframe tbody tr th:only-of-type {\n",
       "        vertical-align: middle;\n",
       "    }\n",
       "\n",
       "    .dataframe tbody tr th {\n",
       "        vertical-align: top;\n",
       "    }\n",
       "\n",
       "    .dataframe thead th {\n",
       "        text-align: right;\n",
       "    }\n",
       "</style>\n",
       "<table border=\"1\" class=\"dataframe\">\n",
       "  <thead>\n",
       "    <tr style=\"text-align: right;\">\n",
       "      <th></th>\n",
       "      <th>CreditScore</th>\n",
       "      <th>Age</th>\n",
       "      <th>Tenure</th>\n",
       "      <th>Balance</th>\n",
       "      <th>NumOfProducts</th>\n",
       "      <th>HasCrCard</th>\n",
       "      <th>IsActiveMember</th>\n",
       "      <th>EstimatedSalary</th>\n",
       "      <th>Churned</th>\n",
       "      <th>Geography_Germany</th>\n",
       "      <th>Geography_Spain</th>\n",
       "      <th>Gender_Male</th>\n",
       "    </tr>\n",
       "  </thead>\n",
       "  <tbody>\n",
       "    <tr>\n",
       "      <th>0</th>\n",
       "      <td>619</td>\n",
       "      <td>42</td>\n",
       "      <td>2</td>\n",
       "      <td>0.00</td>\n",
       "      <td>1</td>\n",
       "      <td>1</td>\n",
       "      <td>1</td>\n",
       "      <td>101348.88</td>\n",
       "      <td>1</td>\n",
       "      <td>0</td>\n",
       "      <td>0</td>\n",
       "      <td>0</td>\n",
       "    </tr>\n",
       "    <tr>\n",
       "      <th>1</th>\n",
       "      <td>608</td>\n",
       "      <td>41</td>\n",
       "      <td>1</td>\n",
       "      <td>83807.86</td>\n",
       "      <td>1</td>\n",
       "      <td>0</td>\n",
       "      <td>1</td>\n",
       "      <td>112542.58</td>\n",
       "      <td>0</td>\n",
       "      <td>0</td>\n",
       "      <td>1</td>\n",
       "      <td>0</td>\n",
       "    </tr>\n",
       "    <tr>\n",
       "      <th>2</th>\n",
       "      <td>502</td>\n",
       "      <td>42</td>\n",
       "      <td>8</td>\n",
       "      <td>159660.80</td>\n",
       "      <td>3</td>\n",
       "      <td>1</td>\n",
       "      <td>0</td>\n",
       "      <td>113931.57</td>\n",
       "      <td>1</td>\n",
       "      <td>0</td>\n",
       "      <td>0</td>\n",
       "      <td>0</td>\n",
       "    </tr>\n",
       "    <tr>\n",
       "      <th>3</th>\n",
       "      <td>699</td>\n",
       "      <td>39</td>\n",
       "      <td>1</td>\n",
       "      <td>0.00</td>\n",
       "      <td>2</td>\n",
       "      <td>0</td>\n",
       "      <td>0</td>\n",
       "      <td>93826.63</td>\n",
       "      <td>0</td>\n",
       "      <td>0</td>\n",
       "      <td>0</td>\n",
       "      <td>0</td>\n",
       "    </tr>\n",
       "    <tr>\n",
       "      <th>4</th>\n",
       "      <td>850</td>\n",
       "      <td>43</td>\n",
       "      <td>2</td>\n",
       "      <td>125510.82</td>\n",
       "      <td>1</td>\n",
       "      <td>1</td>\n",
       "      <td>1</td>\n",
       "      <td>79084.10</td>\n",
       "      <td>0</td>\n",
       "      <td>0</td>\n",
       "      <td>1</td>\n",
       "      <td>0</td>\n",
       "    </tr>\n",
       "    <tr>\n",
       "      <th>...</th>\n",
       "      <td>...</td>\n",
       "      <td>...</td>\n",
       "      <td>...</td>\n",
       "      <td>...</td>\n",
       "      <td>...</td>\n",
       "      <td>...</td>\n",
       "      <td>...</td>\n",
       "      <td>...</td>\n",
       "      <td>...</td>\n",
       "      <td>...</td>\n",
       "      <td>...</td>\n",
       "      <td>...</td>\n",
       "    </tr>\n",
       "    <tr>\n",
       "      <th>9995</th>\n",
       "      <td>771</td>\n",
       "      <td>39</td>\n",
       "      <td>5</td>\n",
       "      <td>0.00</td>\n",
       "      <td>2</td>\n",
       "      <td>1</td>\n",
       "      <td>0</td>\n",
       "      <td>96270.64</td>\n",
       "      <td>0</td>\n",
       "      <td>0</td>\n",
       "      <td>0</td>\n",
       "      <td>1</td>\n",
       "    </tr>\n",
       "    <tr>\n",
       "      <th>9996</th>\n",
       "      <td>516</td>\n",
       "      <td>35</td>\n",
       "      <td>10</td>\n",
       "      <td>57369.61</td>\n",
       "      <td>1</td>\n",
       "      <td>1</td>\n",
       "      <td>1</td>\n",
       "      <td>101699.77</td>\n",
       "      <td>0</td>\n",
       "      <td>0</td>\n",
       "      <td>0</td>\n",
       "      <td>1</td>\n",
       "    </tr>\n",
       "    <tr>\n",
       "      <th>9997</th>\n",
       "      <td>709</td>\n",
       "      <td>36</td>\n",
       "      <td>7</td>\n",
       "      <td>0.00</td>\n",
       "      <td>1</td>\n",
       "      <td>0</td>\n",
       "      <td>1</td>\n",
       "      <td>42085.58</td>\n",
       "      <td>1</td>\n",
       "      <td>0</td>\n",
       "      <td>0</td>\n",
       "      <td>0</td>\n",
       "    </tr>\n",
       "    <tr>\n",
       "      <th>9998</th>\n",
       "      <td>772</td>\n",
       "      <td>42</td>\n",
       "      <td>3</td>\n",
       "      <td>75075.31</td>\n",
       "      <td>2</td>\n",
       "      <td>1</td>\n",
       "      <td>0</td>\n",
       "      <td>92888.52</td>\n",
       "      <td>1</td>\n",
       "      <td>1</td>\n",
       "      <td>0</td>\n",
       "      <td>1</td>\n",
       "    </tr>\n",
       "    <tr>\n",
       "      <th>9999</th>\n",
       "      <td>792</td>\n",
       "      <td>28</td>\n",
       "      <td>4</td>\n",
       "      <td>130142.79</td>\n",
       "      <td>1</td>\n",
       "      <td>1</td>\n",
       "      <td>0</td>\n",
       "      <td>38190.78</td>\n",
       "      <td>0</td>\n",
       "      <td>0</td>\n",
       "      <td>0</td>\n",
       "      <td>0</td>\n",
       "    </tr>\n",
       "  </tbody>\n",
       "</table>\n",
       "<p>10000 rows × 12 columns</p>\n",
       "</div>"
      ],
      "text/plain": [
       "      CreditScore  Age  Tenure    Balance  NumOfProducts  HasCrCard  \\\n",
       "0             619   42       2       0.00              1          1   \n",
       "1             608   41       1   83807.86              1          0   \n",
       "2             502   42       8  159660.80              3          1   \n",
       "3             699   39       1       0.00              2          0   \n",
       "4             850   43       2  125510.82              1          1   \n",
       "...           ...  ...     ...        ...            ...        ...   \n",
       "9995          771   39       5       0.00              2          1   \n",
       "9996          516   35      10   57369.61              1          1   \n",
       "9997          709   36       7       0.00              1          0   \n",
       "9998          772   42       3   75075.31              2          1   \n",
       "9999          792   28       4  130142.79              1          1   \n",
       "\n",
       "      IsActiveMember  EstimatedSalary  Churned  Geography_Germany  \\\n",
       "0                  1        101348.88        1                  0   \n",
       "1                  1        112542.58        0                  0   \n",
       "2                  0        113931.57        1                  0   \n",
       "3                  0         93826.63        0                  0   \n",
       "4                  1         79084.10        0                  0   \n",
       "...              ...              ...      ...                ...   \n",
       "9995               0         96270.64        0                  0   \n",
       "9996               1        101699.77        0                  0   \n",
       "9997               1         42085.58        1                  0   \n",
       "9998               0         92888.52        1                  1   \n",
       "9999               0         38190.78        0                  0   \n",
       "\n",
       "      Geography_Spain  Gender_Male  \n",
       "0                   0            0  \n",
       "1                   1            0  \n",
       "2                   0            0  \n",
       "3                   0            0  \n",
       "4                   1            0  \n",
       "...               ...          ...  \n",
       "9995                0            1  \n",
       "9996                0            1  \n",
       "9997                0            0  \n",
       "9998                0            1  \n",
       "9999                0            0  \n",
       "\n",
       "[10000 rows x 12 columns]"
      ]
     },
     "execution_count": 23,
     "metadata": {},
     "output_type": "execute_result"
    }
   ],
   "source": [
    "dataset"
   ]
  },
  {
   "cell_type": "markdown",
   "id": "covered-quarter",
   "metadata": {},
   "source": [
    "**Here, we used One Hot Encoding instead of Label Encoding because...**\n",
    "\n",
    "**1. No Inherent Order: \"Geography\" has three unique countries, and \"Gender\" has two unique values. These categories don't have an inherent order or ranking. One-hot encoding is suitable for nominal categorical variables without a meaningful ordinal relationship.**\n",
    "\n",
    "\n",
    "**2. Preservation of Independence: One-hot encoding preserves the independence of categories. Each category gets its own binary column, ensuring that the model doesn't infer false ordinal relationships between the categories.**\n",
    "\n",
    "**3. Avoiding Misinterpretation: Label encoding might imply an ordinal relationship that doesn't exist. For example, if we label encode \"Geography\" as 0, 1, and 2, the model might incorrectly interpret that there is an ordinal relationship between the countries, which is not the case.**\n",
    "\n",
    "**4. Interpretability: One-hot encoding provides a more interpretable representation of categorical variables. Each category is clearly represented by its own binary column, making it easier to understand the impact of each category on the model's predictions.**"
   ]
  },
  {
   "cell_type": "markdown",
   "id": "outstanding-radio",
   "metadata": {},
   "source": [
    "# **Splitting the data into X and y**"
   ]
  },
  {
   "cell_type": "markdown",
   "id": "driven-paragraph",
   "metadata": {},
   "source": [
    "**Now, we partition the dataset into two components: X and y.**\n",
    "\n",
    "**The variable X encompasses all independent variables, representing the features that contribute to our predictions.**\n",
    "\n",
    "**On the other hand, y encapsulates the dependent variable or target variable, serving as the outcome we aim to predict.**"
   ]
  },
  {
   "cell_type": "code",
   "execution_count": 24,
   "id": "integral-supply",
   "metadata": {},
   "outputs": [],
   "source": [
    "X = dataset.drop('Churned', axis=1)\n",
    "y = dataset['Churned']"
   ]
  },
  {
   "cell_type": "markdown",
   "id": "numerous-envelope",
   "metadata": {},
   "source": [
    "# **Train-Test Split**"
   ]
  },
  {
   "cell_type": "markdown",
   "id": "moved-parking",
   "metadata": {},
   "source": [
    "**We'll now split the dataset into training and testing data. We will do an 80:20 split, so our test size will be set to 0.2.**\n",
    "\n",
    "**We will take Random State as 123. This will guarantee the reproducibility of our results across different runs.**"
   ]
  },
  {
   "cell_type": "code",
   "execution_count": 25,
   "id": "infectious-enhancement",
   "metadata": {},
   "outputs": [],
   "source": [
    "X_train,X_test,y_train,y_test=train_test_split(X,y,test_size=0.2,random_state=123,stratify=y)"
   ]
  },
  {
   "cell_type": "markdown",
   "id": "bizarre-mouth",
   "metadata": {},
   "source": [
    "# **Standard Scaler**"
   ]
  },
  {
   "cell_type": "markdown",
   "id": "alpine-infrastructure",
   "metadata": {},
   "source": [
    "**We will now use Standard Scaler to standardize the features of the dataset. This ensures that the consistency between the features of the dataset is maintained. Standardization is crucial for certain machine learning algorithms, promoting optimal model performance by mitigating the influence of varying magnitudes among features.**"
   ]
  },
  {
   "cell_type": "code",
   "execution_count": 26,
   "id": "current-sociology",
   "metadata": {},
   "outputs": [],
   "source": [
    "numeric_columns = ['CreditScore', 'Age', 'Balance', 'NumOfProducts', 'EstimatedSalary', 'Tenure']"
   ]
  },
  {
   "cell_type": "code",
   "execution_count": 27,
   "id": "universal-console",
   "metadata": {},
   "outputs": [],
   "source": [
    "sc = StandardScaler()"
   ]
  },
  {
   "cell_type": "code",
   "execution_count": 28,
   "id": "martial-azerbaijan",
   "metadata": {},
   "outputs": [],
   "source": [
    "X_train[numeric_columns] = sc.fit_transform(X_train[numeric_columns])\n",
    "X_test[numeric_columns] = sc.transform(X_test[numeric_columns])"
   ]
  },
  {
   "cell_type": "code",
   "execution_count": 29,
   "id": "mighty-consolidation",
   "metadata": {},
   "outputs": [
    {
     "data": {
      "text/html": [
       "<div>\n",
       "<style scoped>\n",
       "    .dataframe tbody tr th:only-of-type {\n",
       "        vertical-align: middle;\n",
       "    }\n",
       "\n",
       "    .dataframe tbody tr th {\n",
       "        vertical-align: top;\n",
       "    }\n",
       "\n",
       "    .dataframe thead th {\n",
       "        text-align: right;\n",
       "    }\n",
       "</style>\n",
       "<table border=\"1\" class=\"dataframe\">\n",
       "  <thead>\n",
       "    <tr style=\"text-align: right;\">\n",
       "      <th></th>\n",
       "      <th>CreditScore</th>\n",
       "      <th>Age</th>\n",
       "      <th>Tenure</th>\n",
       "      <th>Balance</th>\n",
       "      <th>NumOfProducts</th>\n",
       "      <th>HasCrCard</th>\n",
       "      <th>IsActiveMember</th>\n",
       "      <th>EstimatedSalary</th>\n",
       "      <th>Geography_Germany</th>\n",
       "      <th>Geography_Spain</th>\n",
       "      <th>Gender_Male</th>\n",
       "    </tr>\n",
       "  </thead>\n",
       "  <tbody>\n",
       "    <tr>\n",
       "      <th>9385</th>\n",
       "      <td>0.382227</td>\n",
       "      <td>0.487923</td>\n",
       "      <td>1.033751</td>\n",
       "      <td>0.308125</td>\n",
       "      <td>0.825039</td>\n",
       "      <td>1</td>\n",
       "      <td>1</td>\n",
       "      <td>-1.712869</td>\n",
       "      <td>1</td>\n",
       "      <td>0</td>\n",
       "      <td>1</td>\n",
       "    </tr>\n",
       "    <tr>\n",
       "      <th>2155</th>\n",
       "      <td>0.101876</td>\n",
       "      <td>-0.379067</td>\n",
       "      <td>0.341382</td>\n",
       "      <td>0.394675</td>\n",
       "      <td>-0.914174</td>\n",
       "      <td>1</td>\n",
       "      <td>0</td>\n",
       "      <td>-1.409809</td>\n",
       "      <td>0</td>\n",
       "      <td>0</td>\n",
       "      <td>0</td>\n",
       "    </tr>\n",
       "    <tr>\n",
       "      <th>768</th>\n",
       "      <td>0.351077</td>\n",
       "      <td>0.198926</td>\n",
       "      <td>-1.043358</td>\n",
       "      <td>0.699392</td>\n",
       "      <td>0.825039</td>\n",
       "      <td>0</td>\n",
       "      <td>0</td>\n",
       "      <td>0.349622</td>\n",
       "      <td>0</td>\n",
       "      <td>1</td>\n",
       "      <td>1</td>\n",
       "    </tr>\n",
       "    <tr>\n",
       "      <th>6082</th>\n",
       "      <td>0.776796</td>\n",
       "      <td>0.102594</td>\n",
       "      <td>1.033751</td>\n",
       "      <td>0.448857</td>\n",
       "      <td>-0.914174</td>\n",
       "      <td>1</td>\n",
       "      <td>0</td>\n",
       "      <td>-0.664364</td>\n",
       "      <td>1</td>\n",
       "      <td>0</td>\n",
       "      <td>1</td>\n",
       "    </tr>\n",
       "    <tr>\n",
       "      <th>2926</th>\n",
       "      <td>-1.455629</td>\n",
       "      <td>2.318235</td>\n",
       "      <td>1.033751</td>\n",
       "      <td>-1.220239</td>\n",
       "      <td>0.825039</td>\n",
       "      <td>1</td>\n",
       "      <td>1</td>\n",
       "      <td>0.262719</td>\n",
       "      <td>0</td>\n",
       "      <td>0</td>\n",
       "      <td>1</td>\n",
       "    </tr>\n",
       "    <tr>\n",
       "      <th>...</th>\n",
       "      <td>...</td>\n",
       "      <td>...</td>\n",
       "      <td>...</td>\n",
       "      <td>...</td>\n",
       "      <td>...</td>\n",
       "      <td>...</td>\n",
       "      <td>...</td>\n",
       "      <td>...</td>\n",
       "      <td>...</td>\n",
       "      <td>...</td>\n",
       "      <td>...</td>\n",
       "    </tr>\n",
       "    <tr>\n",
       "      <th>926</th>\n",
       "      <td>0.911779</td>\n",
       "      <td>-0.379067</td>\n",
       "      <td>-0.697173</td>\n",
       "      <td>-1.220239</td>\n",
       "      <td>-0.914174</td>\n",
       "      <td>1</td>\n",
       "      <td>1</td>\n",
       "      <td>-1.471579</td>\n",
       "      <td>0</td>\n",
       "      <td>1</td>\n",
       "      <td>1</td>\n",
       "    </tr>\n",
       "    <tr>\n",
       "      <th>7779</th>\n",
       "      <td>1.109064</td>\n",
       "      <td>0.680587</td>\n",
       "      <td>-1.735728</td>\n",
       "      <td>-1.220239</td>\n",
       "      <td>0.825039</td>\n",
       "      <td>1</td>\n",
       "      <td>0</td>\n",
       "      <td>-1.091978</td>\n",
       "      <td>0</td>\n",
       "      <td>0</td>\n",
       "      <td>1</td>\n",
       "    </tr>\n",
       "    <tr>\n",
       "      <th>729</th>\n",
       "      <td>-1.569846</td>\n",
       "      <td>1.740242</td>\n",
       "      <td>-1.389543</td>\n",
       "      <td>-1.220239</td>\n",
       "      <td>-0.914174</td>\n",
       "      <td>0</td>\n",
       "      <td>0</td>\n",
       "      <td>0.542608</td>\n",
       "      <td>0</td>\n",
       "      <td>0</td>\n",
       "      <td>0</td>\n",
       "    </tr>\n",
       "    <tr>\n",
       "      <th>9719</th>\n",
       "      <td>-1.393329</td>\n",
       "      <td>0.776920</td>\n",
       "      <td>1.379936</td>\n",
       "      <td>0.835869</td>\n",
       "      <td>-0.914174</td>\n",
       "      <td>0</td>\n",
       "      <td>0</td>\n",
       "      <td>0.860115</td>\n",
       "      <td>1</td>\n",
       "      <td>0</td>\n",
       "      <td>0</td>\n",
       "    </tr>\n",
       "    <tr>\n",
       "      <th>721</th>\n",
       "      <td>-1.985181</td>\n",
       "      <td>0.295258</td>\n",
       "      <td>0.341382</td>\n",
       "      <td>0.857272</td>\n",
       "      <td>0.825039</td>\n",
       "      <td>1</td>\n",
       "      <td>1</td>\n",
       "      <td>1.348665</td>\n",
       "      <td>0</td>\n",
       "      <td>1</td>\n",
       "      <td>0</td>\n",
       "    </tr>\n",
       "  </tbody>\n",
       "</table>\n",
       "<p>8000 rows × 11 columns</p>\n",
       "</div>"
      ],
      "text/plain": [
       "      CreditScore       Age    Tenure   Balance  NumOfProducts  HasCrCard  \\\n",
       "9385     0.382227  0.487923  1.033751  0.308125       0.825039          1   \n",
       "2155     0.101876 -0.379067  0.341382  0.394675      -0.914174          1   \n",
       "768      0.351077  0.198926 -1.043358  0.699392       0.825039          0   \n",
       "6082     0.776796  0.102594  1.033751  0.448857      -0.914174          1   \n",
       "2926    -1.455629  2.318235  1.033751 -1.220239       0.825039          1   \n",
       "...           ...       ...       ...       ...            ...        ...   \n",
       "926      0.911779 -0.379067 -0.697173 -1.220239      -0.914174          1   \n",
       "7779     1.109064  0.680587 -1.735728 -1.220239       0.825039          1   \n",
       "729     -1.569846  1.740242 -1.389543 -1.220239      -0.914174          0   \n",
       "9719    -1.393329  0.776920  1.379936  0.835869      -0.914174          0   \n",
       "721     -1.985181  0.295258  0.341382  0.857272       0.825039          1   \n",
       "\n",
       "      IsActiveMember  EstimatedSalary  Geography_Germany  Geography_Spain  \\\n",
       "9385               1        -1.712869                  1                0   \n",
       "2155               0        -1.409809                  0                0   \n",
       "768                0         0.349622                  0                1   \n",
       "6082               0        -0.664364                  1                0   \n",
       "2926               1         0.262719                  0                0   \n",
       "...              ...              ...                ...              ...   \n",
       "926                1        -1.471579                  0                1   \n",
       "7779               0        -1.091978                  0                0   \n",
       "729                0         0.542608                  0                0   \n",
       "9719               0         0.860115                  1                0   \n",
       "721                1         1.348665                  0                1   \n",
       "\n",
       "      Gender_Male  \n",
       "9385            1  \n",
       "2155            0  \n",
       "768             1  \n",
       "6082            1  \n",
       "2926            1  \n",
       "...           ...  \n",
       "926             1  \n",
       "7779            1  \n",
       "729             0  \n",
       "9719            0  \n",
       "721             0  \n",
       "\n",
       "[8000 rows x 11 columns]"
      ]
     },
     "execution_count": 29,
     "metadata": {},
     "output_type": "execute_result"
    }
   ],
   "source": [
    "X_train"
   ]
  },
  {
   "cell_type": "code",
   "execution_count": 30,
   "id": "documentary-internet",
   "metadata": {},
   "outputs": [
    {
     "data": {
      "text/html": [
       "<div>\n",
       "<style scoped>\n",
       "    .dataframe tbody tr th:only-of-type {\n",
       "        vertical-align: middle;\n",
       "    }\n",
       "\n",
       "    .dataframe tbody tr th {\n",
       "        vertical-align: top;\n",
       "    }\n",
       "\n",
       "    .dataframe thead th {\n",
       "        text-align: right;\n",
       "    }\n",
       "</style>\n",
       "<table border=\"1\" class=\"dataframe\">\n",
       "  <thead>\n",
       "    <tr style=\"text-align: right;\">\n",
       "      <th></th>\n",
       "      <th>CreditScore</th>\n",
       "      <th>Age</th>\n",
       "      <th>Tenure</th>\n",
       "      <th>Balance</th>\n",
       "      <th>NumOfProducts</th>\n",
       "      <th>HasCrCard</th>\n",
       "      <th>IsActiveMember</th>\n",
       "      <th>EstimatedSalary</th>\n",
       "      <th>Geography_Germany</th>\n",
       "      <th>Geography_Spain</th>\n",
       "      <th>Gender_Male</th>\n",
       "    </tr>\n",
       "  </thead>\n",
       "  <tbody>\n",
       "    <tr>\n",
       "      <th>2375</th>\n",
       "      <td>1.711299</td>\n",
       "      <td>0.006262</td>\n",
       "      <td>0.341382</td>\n",
       "      <td>-1.220239</td>\n",
       "      <td>-0.914174</td>\n",
       "      <td>1</td>\n",
       "      <td>1</td>\n",
       "      <td>-0.261602</td>\n",
       "      <td>0</td>\n",
       "      <td>1</td>\n",
       "      <td>0</td>\n",
       "    </tr>\n",
       "    <tr>\n",
       "      <th>2821</th>\n",
       "      <td>0.662579</td>\n",
       "      <td>-0.571732</td>\n",
       "      <td>1.726121</td>\n",
       "      <td>0.432377</td>\n",
       "      <td>0.825039</td>\n",
       "      <td>1</td>\n",
       "      <td>1</td>\n",
       "      <td>-0.879423</td>\n",
       "      <td>0</td>\n",
       "      <td>1</td>\n",
       "      <td>0</td>\n",
       "    </tr>\n",
       "    <tr>\n",
       "      <th>6969</th>\n",
       "      <td>-0.323842</td>\n",
       "      <td>-0.090071</td>\n",
       "      <td>0.341382</td>\n",
       "      <td>-1.220239</td>\n",
       "      <td>0.825039</td>\n",
       "      <td>1</td>\n",
       "      <td>1</td>\n",
       "      <td>0.303177</td>\n",
       "      <td>0</td>\n",
       "      <td>1</td>\n",
       "      <td>0</td>\n",
       "    </tr>\n",
       "    <tr>\n",
       "      <th>4748</th>\n",
       "      <td>-1.175278</td>\n",
       "      <td>-0.186403</td>\n",
       "      <td>0.687566</td>\n",
       "      <td>1.318461</td>\n",
       "      <td>4.303467</td>\n",
       "      <td>1</td>\n",
       "      <td>1</td>\n",
       "      <td>0.304470</td>\n",
       "      <td>1</td>\n",
       "      <td>0</td>\n",
       "      <td>0</td>\n",
       "    </tr>\n",
       "    <tr>\n",
       "      <th>76</th>\n",
       "      <td>0.143410</td>\n",
       "      <td>1.547577</td>\n",
       "      <td>1.033751</td>\n",
       "      <td>-1.220239</td>\n",
       "      <td>0.825039</td>\n",
       "      <td>1</td>\n",
       "      <td>1</td>\n",
       "      <td>0.678184</td>\n",
       "      <td>0</td>\n",
       "      <td>0</td>\n",
       "      <td>1</td>\n",
       "    </tr>\n",
       "    <tr>\n",
       "      <th>...</th>\n",
       "      <td>...</td>\n",
       "      <td>...</td>\n",
       "      <td>...</td>\n",
       "      <td>...</td>\n",
       "      <td>...</td>\n",
       "      <td>...</td>\n",
       "      <td>...</td>\n",
       "      <td>...</td>\n",
       "      <td>...</td>\n",
       "      <td>...</td>\n",
       "      <td>...</td>\n",
       "    </tr>\n",
       "    <tr>\n",
       "      <th>5315</th>\n",
       "      <td>0.340694</td>\n",
       "      <td>-0.282735</td>\n",
       "      <td>-0.004803</td>\n",
       "      <td>0.628363</td>\n",
       "      <td>-0.914174</td>\n",
       "      <td>1</td>\n",
       "      <td>1</td>\n",
       "      <td>0.384802</td>\n",
       "      <td>0</td>\n",
       "      <td>0</td>\n",
       "      <td>1</td>\n",
       "    </tr>\n",
       "    <tr>\n",
       "      <th>1606</th>\n",
       "      <td>-0.874161</td>\n",
       "      <td>0.102594</td>\n",
       "      <td>-1.043358</td>\n",
       "      <td>0.334299</td>\n",
       "      <td>0.825039</td>\n",
       "      <td>1</td>\n",
       "      <td>0</td>\n",
       "      <td>0.944911</td>\n",
       "      <td>1</td>\n",
       "      <td>0</td>\n",
       "      <td>0</td>\n",
       "    </tr>\n",
       "    <tr>\n",
       "      <th>8247</th>\n",
       "      <td>-1.507546</td>\n",
       "      <td>-1.342390</td>\n",
       "      <td>-0.004803</td>\n",
       "      <td>0.611027</td>\n",
       "      <td>0.825039</td>\n",
       "      <td>1</td>\n",
       "      <td>1</td>\n",
       "      <td>0.461775</td>\n",
       "      <td>1</td>\n",
       "      <td>0</td>\n",
       "      <td>0</td>\n",
       "    </tr>\n",
       "    <tr>\n",
       "      <th>1221</th>\n",
       "      <td>1.462098</td>\n",
       "      <td>-0.186403</td>\n",
       "      <td>-1.043358</td>\n",
       "      <td>1.404641</td>\n",
       "      <td>0.825039</td>\n",
       "      <td>1</td>\n",
       "      <td>0</td>\n",
       "      <td>-0.424088</td>\n",
       "      <td>0</td>\n",
       "      <td>0</td>\n",
       "      <td>1</td>\n",
       "    </tr>\n",
       "    <tr>\n",
       "      <th>719</th>\n",
       "      <td>-0.303075</td>\n",
       "      <td>0.391591</td>\n",
       "      <td>-0.004803</td>\n",
       "      <td>-1.220239</td>\n",
       "      <td>-0.914174</td>\n",
       "      <td>1</td>\n",
       "      <td>1</td>\n",
       "      <td>-0.915863</td>\n",
       "      <td>0</td>\n",
       "      <td>0</td>\n",
       "      <td>0</td>\n",
       "    </tr>\n",
       "  </tbody>\n",
       "</table>\n",
       "<p>2000 rows × 11 columns</p>\n",
       "</div>"
      ],
      "text/plain": [
       "      CreditScore       Age    Tenure   Balance  NumOfProducts  HasCrCard  \\\n",
       "2375     1.711299  0.006262  0.341382 -1.220239      -0.914174          1   \n",
       "2821     0.662579 -0.571732  1.726121  0.432377       0.825039          1   \n",
       "6969    -0.323842 -0.090071  0.341382 -1.220239       0.825039          1   \n",
       "4748    -1.175278 -0.186403  0.687566  1.318461       4.303467          1   \n",
       "76       0.143410  1.547577  1.033751 -1.220239       0.825039          1   \n",
       "...           ...       ...       ...       ...            ...        ...   \n",
       "5315     0.340694 -0.282735 -0.004803  0.628363      -0.914174          1   \n",
       "1606    -0.874161  0.102594 -1.043358  0.334299       0.825039          1   \n",
       "8247    -1.507546 -1.342390 -0.004803  0.611027       0.825039          1   \n",
       "1221     1.462098 -0.186403 -1.043358  1.404641       0.825039          1   \n",
       "719     -0.303075  0.391591 -0.004803 -1.220239      -0.914174          1   \n",
       "\n",
       "      IsActiveMember  EstimatedSalary  Geography_Germany  Geography_Spain  \\\n",
       "2375               1        -0.261602                  0                1   \n",
       "2821               1        -0.879423                  0                1   \n",
       "6969               1         0.303177                  0                1   \n",
       "4748               1         0.304470                  1                0   \n",
       "76                 1         0.678184                  0                0   \n",
       "...              ...              ...                ...              ...   \n",
       "5315               1         0.384802                  0                0   \n",
       "1606               0         0.944911                  1                0   \n",
       "8247               1         0.461775                  1                0   \n",
       "1221               0        -0.424088                  0                0   \n",
       "719                1        -0.915863                  0                0   \n",
       "\n",
       "      Gender_Male  \n",
       "2375            0  \n",
       "2821            0  \n",
       "6969            0  \n",
       "4748            0  \n",
       "76              1  \n",
       "...           ...  \n",
       "5315            1  \n",
       "1606            0  \n",
       "8247            0  \n",
       "1221            1  \n",
       "719             0  \n",
       "\n",
       "[2000 rows x 11 columns]"
      ]
     },
     "execution_count": 30,
     "metadata": {},
     "output_type": "execute_result"
    }
   ],
   "source": [
    "X_test"
   ]
  },
  {
   "cell_type": "markdown",
   "id": "electoral-netherlands",
   "metadata": {},
   "source": [
    "# **Addressing the issue of Data Imbalance**"
   ]
  },
  {
   "cell_type": "markdown",
   "id": "worst-mountain",
   "metadata": {},
   "source": [
    "**We have data imbalance within our target variable. Initially, we will evaluate our model's accuracy in the presence of this imbalance.** \n",
    "\n",
    "**Then, to rectify the issue of imbalance, we implement the Synthetic Minority Over-sampling Technique (SMOTE) as an oversampling method.**  \n",
    "\n",
    "\n",
    "**We will then compare the model accuracies before and after addressing the data imbalance using SMOTE, providing valuable insights into the impact of this preprocessing technique.**\n"
   ]
  },
  {
   "cell_type": "markdown",
   "id": "loved-arizona",
   "metadata": {},
   "source": [
    "# **Model Fitting with imbalance**"
   ]
  },
  {
   "cell_type": "markdown",
   "id": "efficient-arabic",
   "metadata": {},
   "source": [
    "## **1. Logistic Regression**"
   ]
  },
  {
   "cell_type": "code",
   "execution_count": 31,
   "id": "formal-summer",
   "metadata": {},
   "outputs": [],
   "source": [
    "logi = LogisticRegression()"
   ]
  },
  {
   "cell_type": "code",
   "execution_count": 32,
   "id": "closing-vermont",
   "metadata": {},
   "outputs": [
    {
     "data": {
      "text/plain": [
       "LogisticRegression()"
      ]
     },
     "execution_count": 32,
     "metadata": {},
     "output_type": "execute_result"
    }
   ],
   "source": [
    "logi.fit(X_train,y_train)"
   ]
  },
  {
   "cell_type": "code",
   "execution_count": 33,
   "id": "improving-homework",
   "metadata": {},
   "outputs": [],
   "source": [
    "logi_pred = logi.predict(X_test)"
   ]
  },
  {
   "cell_type": "code",
   "execution_count": 34,
   "id": "ranging-satisfaction",
   "metadata": {},
   "outputs": [
    {
     "data": {
      "text/plain": [
       "array([[1528,   65],\n",
       "       [ 311,   96]], dtype=int64)"
      ]
     },
     "execution_count": 34,
     "metadata": {},
     "output_type": "execute_result"
    }
   ],
   "source": [
    "confusion_matrix(y_test,logi_pred)"
   ]
  },
  {
   "cell_type": "code",
   "execution_count": 35,
   "id": "indian-philosophy",
   "metadata": {},
   "outputs": [
    {
     "data": {
      "text/plain": [
       "0.812"
      ]
     },
     "execution_count": 35,
     "metadata": {},
     "output_type": "execute_result"
    }
   ],
   "source": [
    "accuracy_score(y_test,logi_pred)"
   ]
  },
  {
   "cell_type": "code",
   "execution_count": 36,
   "id": "killing-chosen",
   "metadata": {},
   "outputs": [
    {
     "name": "stdout",
     "output_type": "stream",
     "text": [
      "              precision    recall  f1-score   support\n",
      "\n",
      "           0       0.83      0.96      0.89      1593\n",
      "           1       0.60      0.24      0.34       407\n",
      "\n",
      "    accuracy                           0.81      2000\n",
      "   macro avg       0.71      0.60      0.61      2000\n",
      "weighted avg       0.78      0.81      0.78      2000\n",
      "\n"
     ]
    }
   ],
   "source": [
    "print(classification_report(y_test,logi_pred))"
   ]
  },
  {
   "cell_type": "code",
   "execution_count": 37,
   "id": "australian-intention",
   "metadata": {},
   "outputs": [
    {
     "name": "stdout",
     "output_type": "stream",
     "text": [
      "Precision score: 59.62732919254658\n",
      "Recall score: 23.587223587223587\n",
      "F1-score: 33.802816901408455\n",
      "Accuracy: 81.2\n"
     ]
    }
   ],
   "source": [
    "print('Precision score:', precision_score(y_test,logi_pred)*100)\n",
    "print('Recall score:', recall_score(y_test,logi_pred)*100)\n",
    "print('F1-score:', f1_score(y_test,logi_pred)*100)\n",
    "print('Accuracy:', accuracy_score(y_test,logi_pred)*100)"
   ]
  },
  {
   "cell_type": "markdown",
   "id": "given-drinking",
   "metadata": {},
   "source": [
    "## **2. Support Vector Classifier**"
   ]
  },
  {
   "cell_type": "code",
   "execution_count": 38,
   "id": "secondary-account",
   "metadata": {},
   "outputs": [],
   "source": [
    "sv = SVC()"
   ]
  },
  {
   "cell_type": "code",
   "execution_count": 39,
   "id": "electronic-chinese",
   "metadata": {},
   "outputs": [
    {
     "data": {
      "text/plain": [
       "SVC()"
      ]
     },
     "execution_count": 39,
     "metadata": {},
     "output_type": "execute_result"
    }
   ],
   "source": [
    "sv.fit(X_train,y_train)"
   ]
  },
  {
   "cell_type": "code",
   "execution_count": 40,
   "id": "collect-aquarium",
   "metadata": {},
   "outputs": [],
   "source": [
    "sv_pred = sv.predict(X_test)"
   ]
  },
  {
   "cell_type": "code",
   "execution_count": 41,
   "id": "lined-fault",
   "metadata": {},
   "outputs": [
    {
     "data": {
      "text/plain": [
       "array([[1549,   44],\n",
       "       [ 226,  181]], dtype=int64)"
      ]
     },
     "execution_count": 41,
     "metadata": {},
     "output_type": "execute_result"
    }
   ],
   "source": [
    "confusion_matrix(y_test,sv_pred)"
   ]
  },
  {
   "cell_type": "code",
   "execution_count": 42,
   "id": "labeled-prompt",
   "metadata": {},
   "outputs": [
    {
     "data": {
      "text/plain": [
       "0.865"
      ]
     },
     "execution_count": 42,
     "metadata": {},
     "output_type": "execute_result"
    }
   ],
   "source": [
    "accuracy_score(y_test,sv_pred)"
   ]
  },
  {
   "cell_type": "code",
   "execution_count": 43,
   "id": "completed-harvest",
   "metadata": {},
   "outputs": [
    {
     "name": "stdout",
     "output_type": "stream",
     "text": [
      "              precision    recall  f1-score   support\n",
      "\n",
      "           0       0.87      0.97      0.92      1593\n",
      "           1       0.80      0.44      0.57       407\n",
      "\n",
      "    accuracy                           0.86      2000\n",
      "   macro avg       0.84      0.71      0.75      2000\n",
      "weighted avg       0.86      0.86      0.85      2000\n",
      "\n"
     ]
    }
   ],
   "source": [
    "print(classification_report(y_test,sv_pred))"
   ]
  },
  {
   "cell_type": "code",
   "execution_count": 44,
   "id": "hundred-lafayette",
   "metadata": {},
   "outputs": [
    {
     "name": "stdout",
     "output_type": "stream",
     "text": [
      "Precision score: 80.44444444444444\n",
      "Recall score: 44.47174447174447\n",
      "F1-score: 57.27848101265822\n",
      "Accuracy: 86.5\n"
     ]
    }
   ],
   "source": [
    "print('Precision score:', precision_score(y_test,sv_pred)*100)\n",
    "print('Recall score:', recall_score(y_test,sv_pred)*100)\n",
    "print('F1-score:', f1_score(y_test,sv_pred)*100)\n",
    "print('Accuracy:', accuracy_score(y_test,sv_pred)*100)"
   ]
  },
  {
   "cell_type": "markdown",
   "id": "dramatic-potential",
   "metadata": {},
   "source": [
    "## **3. K Nearest Neighbour**"
   ]
  },
  {
   "cell_type": "code",
   "execution_count": 45,
   "id": "solar-chapel",
   "metadata": {},
   "outputs": [],
   "source": [
    "knn = KNeighborsClassifier(n_neighbors=5)"
   ]
  },
  {
   "cell_type": "code",
   "execution_count": 46,
   "id": "executed-catering",
   "metadata": {},
   "outputs": [
    {
     "data": {
      "text/plain": [
       "KNeighborsClassifier()"
      ]
     },
     "execution_count": 46,
     "metadata": {},
     "output_type": "execute_result"
    }
   ],
   "source": [
    "knn.fit(X_train,y_train)"
   ]
  },
  {
   "cell_type": "code",
   "execution_count": 47,
   "id": "local-injection",
   "metadata": {},
   "outputs": [],
   "source": [
    "knn_pred = knn.predict(X_test)"
   ]
  },
  {
   "cell_type": "code",
   "execution_count": 48,
   "id": "elegant-accommodation",
   "metadata": {},
   "outputs": [
    {
     "data": {
      "text/plain": [
       "array([[1499,   94],\n",
       "       [ 226,  181]], dtype=int64)"
      ]
     },
     "execution_count": 48,
     "metadata": {},
     "output_type": "execute_result"
    }
   ],
   "source": [
    "confusion_matrix(y_test,knn_pred)"
   ]
  },
  {
   "cell_type": "code",
   "execution_count": 49,
   "id": "skilled-security",
   "metadata": {},
   "outputs": [
    {
     "data": {
      "text/plain": [
       "0.84"
      ]
     },
     "execution_count": 49,
     "metadata": {},
     "output_type": "execute_result"
    }
   ],
   "source": [
    "accuracy_score(y_test,knn_pred)"
   ]
  },
  {
   "cell_type": "code",
   "execution_count": 50,
   "id": "hairy-memorabilia",
   "metadata": {},
   "outputs": [
    {
     "name": "stdout",
     "output_type": "stream",
     "text": [
      "              precision    recall  f1-score   support\n",
      "\n",
      "           0       0.87      0.94      0.90      1593\n",
      "           1       0.66      0.44      0.53       407\n",
      "\n",
      "    accuracy                           0.84      2000\n",
      "   macro avg       0.76      0.69      0.72      2000\n",
      "weighted avg       0.83      0.84      0.83      2000\n",
      "\n"
     ]
    }
   ],
   "source": [
    "print(classification_report(y_test,knn_pred))"
   ]
  },
  {
   "cell_type": "code",
   "execution_count": 51,
   "id": "collect-scroll",
   "metadata": {},
   "outputs": [
    {
     "name": "stdout",
     "output_type": "stream",
     "text": [
      "Precision score: 65.81818181818181\n",
      "Recall score: 44.47174447174447\n",
      "F1-score: 53.079178885630505\n",
      "Accuracy: 84.0\n"
     ]
    }
   ],
   "source": [
    "print('Precision score:', precision_score(y_test,knn_pred)*100)\n",
    "print('Recall score:', recall_score(y_test,knn_pred)*100)\n",
    "print('F1-score:', f1_score(y_test,knn_pred)*100)\n",
    "print('Accuracy:', accuracy_score(y_test,knn_pred)*100)"
   ]
  },
  {
   "cell_type": "markdown",
   "id": "color-heater",
   "metadata": {},
   "source": [
    "## **4. Naive Bayes**"
   ]
  },
  {
   "cell_type": "code",
   "execution_count": 52,
   "id": "enormous-middle",
   "metadata": {},
   "outputs": [],
   "source": [
    "nb = GaussianNB()"
   ]
  },
  {
   "cell_type": "code",
   "execution_count": 53,
   "id": "specific-locking",
   "metadata": {},
   "outputs": [
    {
     "data": {
      "text/plain": [
       "GaussianNB()"
      ]
     },
     "execution_count": 53,
     "metadata": {},
     "output_type": "execute_result"
    }
   ],
   "source": [
    "nb.fit(X_train,y_train)"
   ]
  },
  {
   "cell_type": "code",
   "execution_count": 54,
   "id": "positive-captain",
   "metadata": {},
   "outputs": [],
   "source": [
    "nb_pred = nb.predict(X_test)"
   ]
  },
  {
   "cell_type": "code",
   "execution_count": 55,
   "id": "asian-novelty",
   "metadata": {},
   "outputs": [
    {
     "data": {
      "text/plain": [
       "array([[1489,  104],\n",
       "       [ 254,  153]], dtype=int64)"
      ]
     },
     "execution_count": 55,
     "metadata": {},
     "output_type": "execute_result"
    }
   ],
   "source": [
    "confusion_matrix(y_test,nb_pred)"
   ]
  },
  {
   "cell_type": "code",
   "execution_count": 56,
   "id": "danish-confidence",
   "metadata": {},
   "outputs": [
    {
     "data": {
      "text/plain": [
       "0.821"
      ]
     },
     "execution_count": 56,
     "metadata": {},
     "output_type": "execute_result"
    }
   ],
   "source": [
    "accuracy_score(y_test,nb_pred)"
   ]
  },
  {
   "cell_type": "code",
   "execution_count": 57,
   "id": "ancient-shoot",
   "metadata": {},
   "outputs": [
    {
     "name": "stdout",
     "output_type": "stream",
     "text": [
      "              precision    recall  f1-score   support\n",
      "\n",
      "           0       0.85      0.93      0.89      1593\n",
      "           1       0.60      0.38      0.46       407\n",
      "\n",
      "    accuracy                           0.82      2000\n",
      "   macro avg       0.72      0.66      0.68      2000\n",
      "weighted avg       0.80      0.82      0.80      2000\n",
      "\n"
     ]
    }
   ],
   "source": [
    "print(classification_report(y_test,nb_pred))"
   ]
  },
  {
   "cell_type": "code",
   "execution_count": 58,
   "id": "convertible-premium",
   "metadata": {},
   "outputs": [
    {
     "name": "stdout",
     "output_type": "stream",
     "text": [
      "Precision score: 59.53307392996109\n",
      "Recall score: 37.59213759213759\n",
      "F1-score: 46.08433734939759\n",
      "Accuracy: 82.1\n"
     ]
    }
   ],
   "source": [
    "print('Precision score:', precision_score(y_test,nb_pred)*100)\n",
    "print('Recall score:', recall_score(y_test,nb_pred)*100)\n",
    "print('F1-score:', f1_score(y_test,nb_pred)*100)\n",
    "print('Accuracy:', accuracy_score(y_test,nb_pred)*100)"
   ]
  },
  {
   "cell_type": "markdown",
   "id": "eligible-municipality",
   "metadata": {},
   "source": [
    "# **Accuracy of models with imbalance**"
   ]
  },
  {
   "cell_type": "code",
   "execution_count": 59,
   "id": "manual-interest",
   "metadata": {},
   "outputs": [],
   "source": [
    "final_data=pd.DataFrame({'Models':['LOGI','SVC','KNN','NB'],\n",
    "                         'Accuracy':[accuracy_score(y_test,logi_pred),\n",
    "                                     accuracy_score(y_test,sv_pred),\n",
    "                                     accuracy_score(y_test,knn_pred),\n",
    "                                     accuracy_score(y_test,nb_pred),],\n",
    "                         'precision':[precision_score(y_test,logi_pred),\n",
    "                                      precision_score(y_test,sv_pred),\n",
    "                                      precision_score(y_test,knn_pred),\n",
    "                                      precision_score(y_test,nb_pred),],\n",
    "                         'Recall':[recall_score(y_test,logi_pred),\n",
    "                                   recall_score(y_test,sv_pred),\n",
    "                                   recall_score(y_test,knn_pred),\n",
    "                                   recall_score(y_test,nb_pred),],\n",
    "                         'F1-Score':[f1_score(y_test,logi_pred),\n",
    "                                     f1_score(y_test,sv_pred),\n",
    "                                     f1_score(y_test,knn_pred),\n",
    "                                     f1_score(y_test,nb_pred),]})"
   ]
  },
  {
   "cell_type": "code",
   "execution_count": 60,
   "id": "national-amount",
   "metadata": {},
   "outputs": [
    {
     "data": {
      "text/html": [
       "<div>\n",
       "<style scoped>\n",
       "    .dataframe tbody tr th:only-of-type {\n",
       "        vertical-align: middle;\n",
       "    }\n",
       "\n",
       "    .dataframe tbody tr th {\n",
       "        vertical-align: top;\n",
       "    }\n",
       "\n",
       "    .dataframe thead th {\n",
       "        text-align: right;\n",
       "    }\n",
       "</style>\n",
       "<table border=\"1\" class=\"dataframe\">\n",
       "  <thead>\n",
       "    <tr style=\"text-align: right;\">\n",
       "      <th></th>\n",
       "      <th>Models</th>\n",
       "      <th>Accuracy</th>\n",
       "      <th>precision</th>\n",
       "      <th>Recall</th>\n",
       "      <th>F1-Score</th>\n",
       "    </tr>\n",
       "  </thead>\n",
       "  <tbody>\n",
       "    <tr>\n",
       "      <th>0</th>\n",
       "      <td>LOGI</td>\n",
       "      <td>0.812</td>\n",
       "      <td>0.596273</td>\n",
       "      <td>0.235872</td>\n",
       "      <td>0.338028</td>\n",
       "    </tr>\n",
       "    <tr>\n",
       "      <th>1</th>\n",
       "      <td>SVC</td>\n",
       "      <td>0.865</td>\n",
       "      <td>0.804444</td>\n",
       "      <td>0.444717</td>\n",
       "      <td>0.572785</td>\n",
       "    </tr>\n",
       "    <tr>\n",
       "      <th>2</th>\n",
       "      <td>KNN</td>\n",
       "      <td>0.840</td>\n",
       "      <td>0.658182</td>\n",
       "      <td>0.444717</td>\n",
       "      <td>0.530792</td>\n",
       "    </tr>\n",
       "    <tr>\n",
       "      <th>3</th>\n",
       "      <td>NB</td>\n",
       "      <td>0.821</td>\n",
       "      <td>0.595331</td>\n",
       "      <td>0.375921</td>\n",
       "      <td>0.460843</td>\n",
       "    </tr>\n",
       "  </tbody>\n",
       "</table>\n",
       "</div>"
      ],
      "text/plain": [
       "  Models  Accuracy  precision    Recall  F1-Score\n",
       "0   LOGI     0.812   0.596273  0.235872  0.338028\n",
       "1    SVC     0.865   0.804444  0.444717  0.572785\n",
       "2    KNN     0.840   0.658182  0.444717  0.530792\n",
       "3     NB     0.821   0.595331  0.375921  0.460843"
      ]
     },
     "execution_count": 60,
     "metadata": {},
     "output_type": "execute_result"
    }
   ],
   "source": [
    "final_data"
   ]
  },
  {
   "cell_type": "code",
   "execution_count": 61,
   "id": "polyphonic-ethnic",
   "metadata": {},
   "outputs": [
    {
     "data": {
      "text/plain": [
       "<AxesSubplot:xlabel='Models', ylabel='Accuracy'>"
      ]
     },
     "execution_count": 61,
     "metadata": {},
     "output_type": "execute_result"
    },
    {
     "data": {
      "image/png": "[encoded data removed]",
      "text/plain": [
       "<Figure size 432x288 with 1 Axes>"
      ]
     },
     "metadata": {
      "needs_background": "light"
     },
     "output_type": "display_data"
    }
   ],
   "source": [
    "sns.barplot(x = 'Models', y = 'Accuracy', data = final_data)"
   ]
  },
  {
   "cell_type": "markdown",
   "id": "narrative-archive",
   "metadata": {},
   "source": [
    "# **OverSampling (SMOTE)**"
   ]
  },
  {
   "cell_type": "markdown",
   "id": "configured-continent",
   "metadata": {},
   "source": [
    "**We will now use an oversampling technqiue called SMOTE (Synthetic Minority Over-sampling Technique) to address class imbalance in the dataset.**"
   ]
  },
  {
   "cell_type": "code",
   "execution_count": 62,
   "id": "completed-operator",
   "metadata": {},
   "outputs": [],
   "source": [
    "sm=SMOTE(random_state=656)"
   ]
  },
  {
   "cell_type": "code",
   "execution_count": 63,
   "id": "acoustic-shoot",
   "metadata": {},
   "outputs": [],
   "source": [
    "X_train_os,y_train_os=sm.fit_resample(X_train,y_train)"
   ]
  },
  {
   "cell_type": "code",
   "execution_count": 64,
   "id": "agricultural-rough",
   "metadata": {
    "scrolled": true
   },
   "outputs": [
    {
     "data": {
      "text/plain": [
       "0    6370\n",
       "1    6370\n",
       "Name: Churned, dtype: int64"
      ]
     },
     "execution_count": 64,
     "metadata": {},
     "output_type": "execute_result"
    }
   ],
   "source": [
    "# Distribution of our target variable after Oversampling\n",
    "y_train_os.value_counts()"
   ]
  },
  {
   "cell_type": "code",
   "execution_count": 65,
   "id": "alpha-bowling",
   "metadata": {
    "scrolled": true
   },
   "outputs": [
    {
     "data": {
      "text/plain": [
       "0    6370\n",
       "1    1630\n",
       "Name: Churned, dtype: int64"
      ]
     },
     "execution_count": 65,
     "metadata": {},
     "output_type": "execute_result"
    }
   ],
   "source": [
    "# Distribution of our target variable before Oversampling\n",
    "y_train.value_counts()"
   ]
  },
  {
   "cell_type": "markdown",
   "id": "sized-silicon",
   "metadata": {},
   "source": [
    "## **1. Logistic Regression with SMOTE**"
   ]
  },
  {
   "cell_type": "code",
   "execution_count": 66,
   "id": "proud-boating",
   "metadata": {},
   "outputs": [],
   "source": [
    "logi_os = LogisticRegression()"
   ]
  },
  {
   "cell_type": "code",
   "execution_count": 67,
   "id": "suitable-health",
   "metadata": {},
   "outputs": [
    {
     "data": {
      "text/plain": [
       "LogisticRegression()"
      ]
     },
     "execution_count": 67,
     "metadata": {},
     "output_type": "execute_result"
    }
   ],
   "source": [
    "logi_os.fit(X_train_os,y_train_os)"
   ]
  },
  {
   "cell_type": "code",
   "execution_count": 68,
   "id": "positive-local",
   "metadata": {},
   "outputs": [],
   "source": [
    "logi_os_pred = logi_os.predict(X_test)"
   ]
  },
  {
   "cell_type": "code",
   "execution_count": 69,
   "id": "stone-separation",
   "metadata": {},
   "outputs": [
    {
     "data": {
      "text/plain": [
       "array([[1150,  443],\n",
       "       [ 142,  265]], dtype=int64)"
      ]
     },
     "execution_count": 69,
     "metadata": {},
     "output_type": "execute_result"
    }
   ],
   "source": [
    "confusion_matrix(y_test,logi_os_pred)"
   ]
  },
  {
   "cell_type": "code",
   "execution_count": 70,
   "id": "planned-canyon",
   "metadata": {},
   "outputs": [
    {
     "data": {
      "text/plain": [
       "0.7075"
      ]
     },
     "execution_count": 70,
     "metadata": {},
     "output_type": "execute_result"
    }
   ],
   "source": [
    "accuracy_score(y_test,logi_os_pred)"
   ]
  },
  {
   "cell_type": "code",
   "execution_count": 71,
   "id": "loose-government",
   "metadata": {},
   "outputs": [
    {
     "name": "stdout",
     "output_type": "stream",
     "text": [
      "              precision    recall  f1-score   support\n",
      "\n",
      "           0       0.89      0.72      0.80      1593\n",
      "           1       0.37      0.65      0.48       407\n",
      "\n",
      "    accuracy                           0.71      2000\n",
      "   macro avg       0.63      0.69      0.64      2000\n",
      "weighted avg       0.79      0.71      0.73      2000\n",
      "\n"
     ]
    }
   ],
   "source": [
    "print(classification_report(y_test,logi_os_pred))"
   ]
  },
  {
   "cell_type": "code",
   "execution_count": 72,
   "id": "prime-attachment",
   "metadata": {},
   "outputs": [
    {
     "name": "stdout",
     "output_type": "stream",
     "text": [
      "Precision score: 37.429378531073446\n",
      "Recall score: 65.1105651105651\n",
      "F1-score: 47.53363228699551\n",
      "Accuracy: 70.75\n"
     ]
    }
   ],
   "source": [
    "print('Precision score:', precision_score(y_test,logi_os_pred)*100)\n",
    "print('Recall score:', recall_score(y_test,logi_os_pred)*100)\n",
    "print('F1-score:', f1_score(y_test,logi_os_pred)*100)\n",
    "print('Accuracy:', accuracy_score(y_test,logi_os_pred)*100)"
   ]
  },
  {
   "cell_type": "markdown",
   "id": "recorded-greek",
   "metadata": {},
   "source": [
    "## **2. Support Vector Classifier with SMOTE**"
   ]
  },
  {
   "cell_type": "code",
   "execution_count": 73,
   "id": "considerable-constraint",
   "metadata": {},
   "outputs": [],
   "source": [
    "sv_os = SVC()"
   ]
  },
  {
   "cell_type": "code",
   "execution_count": 74,
   "id": "portable-optics",
   "metadata": {},
   "outputs": [
    {
     "data": {
      "text/plain": [
       "SVC()"
      ]
     },
     "execution_count": 74,
     "metadata": {},
     "output_type": "execute_result"
    }
   ],
   "source": [
    "sv_os.fit(X_train_os,y_train_os)"
   ]
  },
  {
   "cell_type": "code",
   "execution_count": 75,
   "id": "terminal-citizen",
   "metadata": {},
   "outputs": [],
   "source": [
    "sv_os_pred = sv_os.predict(X_test)"
   ]
  },
  {
   "cell_type": "code",
   "execution_count": 76,
   "id": "early-cricket",
   "metadata": {},
   "outputs": [
    {
     "data": {
      "text/plain": [
       "array([[1312,  281],\n",
       "       [ 104,  303]], dtype=int64)"
      ]
     },
     "execution_count": 76,
     "metadata": {},
     "output_type": "execute_result"
    }
   ],
   "source": [
    "confusion_matrix(y_test,sv_os_pred)"
   ]
  },
  {
   "cell_type": "code",
   "execution_count": 77,
   "id": "expired-blind",
   "metadata": {},
   "outputs": [
    {
     "data": {
      "text/plain": [
       "0.8075"
      ]
     },
     "execution_count": 77,
     "metadata": {},
     "output_type": "execute_result"
    }
   ],
   "source": [
    "accuracy_score(y_test,sv_os_pred)"
   ]
  },
  {
   "cell_type": "code",
   "execution_count": 78,
   "id": "parental-pound",
   "metadata": {},
   "outputs": [
    {
     "name": "stdout",
     "output_type": "stream",
     "text": [
      "              precision    recall  f1-score   support\n",
      "\n",
      "           0       0.93      0.82      0.87      1593\n",
      "           1       0.52      0.74      0.61       407\n",
      "\n",
      "    accuracy                           0.81      2000\n",
      "   macro avg       0.72      0.78      0.74      2000\n",
      "weighted avg       0.84      0.81      0.82      2000\n",
      "\n"
     ]
    }
   ],
   "source": [
    "print(classification_report(y_test,sv_os_pred))"
   ]
  },
  {
   "cell_type": "code",
   "execution_count": 79,
   "id": "greenhouse-cause",
   "metadata": {},
   "outputs": [
    {
     "name": "stdout",
     "output_type": "stream",
     "text": [
      "Precision score: 51.88356164383562\n",
      "Recall score: 74.44717444717445\n",
      "F1-score: 61.15035317860746\n",
      "Accuracy: 80.75\n"
     ]
    }
   ],
   "source": [
    "print('Precision score:', precision_score(y_test,sv_os_pred)*100)\n",
    "print('Recall score:', recall_score(y_test,sv_os_pred)*100)\n",
    "print('F1-score:', f1_score(y_test,sv_os_pred)*100)\n",
    "print('Accuracy:', accuracy_score(y_test,sv_os_pred)*100)"
   ]
  },
  {
   "cell_type": "markdown",
   "id": "minor-briefs",
   "metadata": {},
   "source": [
    "## **3. K Nearest Neighbour with SMOTE**"
   ]
  },
  {
   "cell_type": "code",
   "execution_count": 80,
   "id": "major-garage",
   "metadata": {},
   "outputs": [],
   "source": [
    "knn_os = KNeighborsClassifier(n_neighbors=5)"
   ]
  },
  {
   "cell_type": "code",
   "execution_count": 81,
   "id": "familiar-period",
   "metadata": {},
   "outputs": [
    {
     "data": {
      "text/plain": [
       "KNeighborsClassifier()"
      ]
     },
     "execution_count": 81,
     "metadata": {},
     "output_type": "execute_result"
    }
   ],
   "source": [
    "knn_os.fit(X_train_os,y_train_os)"
   ]
  },
  {
   "cell_type": "code",
   "execution_count": 82,
   "id": "lesbian-appliance",
   "metadata": {},
   "outputs": [],
   "source": [
    "knn_os_pred = knn_os.predict(X_test)"
   ]
  },
  {
   "cell_type": "code",
   "execution_count": 83,
   "id": "floral-athens",
   "metadata": {},
   "outputs": [
    {
     "data": {
      "text/plain": [
       "array([[1213,  380],\n",
       "       [ 129,  278]], dtype=int64)"
      ]
     },
     "execution_count": 83,
     "metadata": {},
     "output_type": "execute_result"
    }
   ],
   "source": [
    "confusion_matrix(y_test,knn_os_pred)"
   ]
  },
  {
   "cell_type": "code",
   "execution_count": 84,
   "id": "collectible-cylinder",
   "metadata": {},
   "outputs": [
    {
     "data": {
      "text/plain": [
       "0.7455"
      ]
     },
     "execution_count": 84,
     "metadata": {},
     "output_type": "execute_result"
    }
   ],
   "source": [
    "accuracy_score(y_test,knn_os_pred)"
   ]
  },
  {
   "cell_type": "code",
   "execution_count": 85,
   "id": "supposed-financing",
   "metadata": {},
   "outputs": [
    {
     "name": "stdout",
     "output_type": "stream",
     "text": [
      "              precision    recall  f1-score   support\n",
      "\n",
      "           0       0.90      0.76      0.83      1593\n",
      "           1       0.42      0.68      0.52       407\n",
      "\n",
      "    accuracy                           0.75      2000\n",
      "   macro avg       0.66      0.72      0.67      2000\n",
      "weighted avg       0.81      0.75      0.76      2000\n",
      "\n"
     ]
    }
   ],
   "source": [
    "print(classification_report(y_test,knn_os_pred))"
   ]
  },
  {
   "cell_type": "code",
   "execution_count": 86,
   "id": "outside-variable",
   "metadata": {},
   "outputs": [
    {
     "name": "stdout",
     "output_type": "stream",
     "text": [
      "Precision score: 42.24924012158054\n",
      "Recall score: 68.3046683046683\n",
      "F1-score: 52.206572769953056\n",
      "Accuracy: 74.55000000000001\n"
     ]
    }
   ],
   "source": [
    "print('Precision score:', precision_score(y_test,knn_os_pred)*100)\n",
    "print('Recall score:', recall_score(y_test,knn_os_pred)*100)\n",
    "print('F1-score:', f1_score(y_test,knn_os_pred)*100)\n",
    "print('Accuracy:', accuracy_score(y_test,knn_os_pred)*100)"
   ]
  },
  {
   "cell_type": "markdown",
   "id": "focal-laundry",
   "metadata": {},
   "source": [
    "## **4. Naive Bayes with SMOTE**"
   ]
  },
  {
   "cell_type": "code",
   "execution_count": 87,
   "id": "challenging-personal",
   "metadata": {},
   "outputs": [],
   "source": [
    "nb_os = GaussianNB()"
   ]
  },
  {
   "cell_type": "code",
   "execution_count": 88,
   "id": "cross-battlefield",
   "metadata": {},
   "outputs": [
    {
     "data": {
      "text/plain": [
       "GaussianNB()"
      ]
     },
     "execution_count": 88,
     "metadata": {},
     "output_type": "execute_result"
    }
   ],
   "source": [
    "nb_os.fit(X_train_os,y_train_os)"
   ]
  },
  {
   "cell_type": "code",
   "execution_count": 89,
   "id": "elegant-blowing",
   "metadata": {},
   "outputs": [],
   "source": [
    "nb_os_pred = nb_os.predict(X_test)"
   ]
  },
  {
   "cell_type": "code",
   "execution_count": 90,
   "id": "ranging-tampa",
   "metadata": {},
   "outputs": [
    {
     "data": {
      "text/plain": [
       "array([[1155,  438],\n",
       "       [ 128,  279]], dtype=int64)"
      ]
     },
     "execution_count": 90,
     "metadata": {},
     "output_type": "execute_result"
    }
   ],
   "source": [
    "confusion_matrix(y_test,nb_os_pred)"
   ]
  },
  {
   "cell_type": "code",
   "execution_count": 91,
   "id": "alpha-turning",
   "metadata": {},
   "outputs": [
    {
     "data": {
      "text/plain": [
       "0.717"
      ]
     },
     "execution_count": 91,
     "metadata": {},
     "output_type": "execute_result"
    }
   ],
   "source": [
    "accuracy_score(y_test,nb_os_pred)"
   ]
  },
  {
   "cell_type": "code",
   "execution_count": 92,
   "id": "mineral-digest",
   "metadata": {},
   "outputs": [
    {
     "name": "stdout",
     "output_type": "stream",
     "text": [
      "              precision    recall  f1-score   support\n",
      "\n",
      "           0       0.90      0.73      0.80      1593\n",
      "           1       0.39      0.69      0.50       407\n",
      "\n",
      "    accuracy                           0.72      2000\n",
      "   macro avg       0.64      0.71      0.65      2000\n",
      "weighted avg       0.80      0.72      0.74      2000\n",
      "\n"
     ]
    }
   ],
   "source": [
    "print(classification_report(y_test,nb_os_pred))"
   ]
  },
  {
   "cell_type": "code",
   "execution_count": 93,
   "id": "coordinate-recipient",
   "metadata": {},
   "outputs": [
    {
     "name": "stdout",
     "output_type": "stream",
     "text": [
      "Precision score: 38.912133891213394\n",
      "Recall score: 68.55036855036855\n",
      "F1-score: 49.644128113879006\n",
      "Accuracy: 71.7\n"
     ]
    }
   ],
   "source": [
    "print('Precision score:', precision_score(y_test,nb_os_pred)*100)\n",
    "print('Recall score:', recall_score(y_test,nb_os_pred)*100)\n",
    "print('F1-score:', f1_score(y_test,nb_os_pred)*100)\n",
    "print('Accuracy:', accuracy_score(y_test,nb_os_pred)*100)"
   ]
  },
  {
   "cell_type": "markdown",
   "id": "waiting-place",
   "metadata": {},
   "source": [
    "# **Accuracy Comparision**"
   ]
  },
  {
   "cell_type": "code",
   "execution_count": 94,
   "id": "dominican-degree",
   "metadata": {},
   "outputs": [],
   "source": [
    "final_os_data=pd.DataFrame({'Models':['LOGI_OS','SVC_OS','KNN_OS','NB_OS'],\n",
    "                         'Accuracy':[accuracy_score(y_test,logi_os_pred),\n",
    "                                     accuracy_score(y_test,sv_os_pred),\n",
    "                                     accuracy_score(y_test,knn_os_pred),\n",
    "                                     accuracy_score(y_test,nb_os_pred)],\n",
    "                         'precision':[precision_score(y_test,logi_os_pred),\n",
    "                                      precision_score(y_test,sv_os_pred),\n",
    "                                      precision_score(y_test,knn_os_pred),\n",
    "                                      precision_score(y_test,nb_os_pred)],\n",
    "                         'Recall':[recall_score(y_test,logi_os_pred),\n",
    "                                   recall_score(y_test,sv_os_pred),\n",
    "                                   recall_score(y_test,knn_os_pred),\n",
    "                                   recall_score(y_test,nb_os_pred)],\n",
    "                         'F1-Score':[f1_score(y_test,logi_os_pred),\n",
    "                                     f1_score(y_test,sv_os_pred),\n",
    "                                     f1_score(y_test,knn_os_pred),\n",
    "                                     f1_score(y_test,nb_os_pred)]})"
   ]
  },
  {
   "cell_type": "code",
   "execution_count": 95,
   "id": "polish-firmware",
   "metadata": {},
   "outputs": [
    {
     "data": {
      "text/html": [
       "<div>\n",
       "<style scoped>\n",
       "    .dataframe tbody tr th:only-of-type {\n",
       "        vertical-align: middle;\n",
       "    }\n",
       "\n",
       "    .dataframe tbody tr th {\n",
       "        vertical-align: top;\n",
       "    }\n",
       "\n",
       "    .dataframe thead th {\n",
       "        text-align: right;\n",
       "    }\n",
       "</style>\n",
       "<table border=\"1\" class=\"dataframe\">\n",
       "  <thead>\n",
       "    <tr style=\"text-align: right;\">\n",
       "      <th></th>\n",
       "      <th>Models</th>\n",
       "      <th>Accuracy</th>\n",
       "      <th>precision</th>\n",
       "      <th>Recall</th>\n",
       "      <th>F1-Score</th>\n",
       "    </tr>\n",
       "  </thead>\n",
       "  <tbody>\n",
       "    <tr>\n",
       "      <th>0</th>\n",
       "      <td>LOGI_OS</td>\n",
       "      <td>0.7075</td>\n",
       "      <td>0.374294</td>\n",
       "      <td>0.651106</td>\n",
       "      <td>0.475336</td>\n",
       "    </tr>\n",
       "    <tr>\n",
       "      <th>1</th>\n",
       "      <td>SVC_OS</td>\n",
       "      <td>0.8075</td>\n",
       "      <td>0.518836</td>\n",
       "      <td>0.744472</td>\n",
       "      <td>0.611504</td>\n",
       "    </tr>\n",
       "    <tr>\n",
       "      <th>2</th>\n",
       "      <td>KNN_OS</td>\n",
       "      <td>0.7455</td>\n",
       "      <td>0.422492</td>\n",
       "      <td>0.683047</td>\n",
       "      <td>0.522066</td>\n",
       "    </tr>\n",
       "    <tr>\n",
       "      <th>3</th>\n",
       "      <td>NB_OS</td>\n",
       "      <td>0.7170</td>\n",
       "      <td>0.389121</td>\n",
       "      <td>0.685504</td>\n",
       "      <td>0.496441</td>\n",
       "    </tr>\n",
       "  </tbody>\n",
       "</table>\n",
       "</div>"
      ],
      "text/plain": [
       "    Models  Accuracy  precision    Recall  F1-Score\n",
       "0  LOGI_OS    0.7075   0.374294  0.651106  0.475336\n",
       "1   SVC_OS    0.8075   0.518836  0.744472  0.611504\n",
       "2   KNN_OS    0.7455   0.422492  0.683047  0.522066\n",
       "3    NB_OS    0.7170   0.389121  0.685504  0.496441"
      ]
     },
     "execution_count": 95,
     "metadata": {},
     "output_type": "execute_result"
    }
   ],
   "source": [
    "final_os_data"
   ]
  },
  {
   "cell_type": "code",
   "execution_count": 96,
   "id": "strategic-lighting",
   "metadata": {},
   "outputs": [
    {
     "data": {
      "text/plain": [
       "<AxesSubplot:xlabel='Models', ylabel='Accuracy'>"
      ]
     },
     "execution_count": 96,
     "metadata": {},
     "output_type": "execute_result"
    },
    {
     "data": {
      "image/png": "[encoded data removed]",
      "text/plain": [
       "<Figure size 432x288 with 1 Axes>"
      ]
     },
     "metadata": {
      "needs_background": "light"
     },
     "output_type": "display_data"
    }
   ],
   "source": [
    "sns.barplot(x = 'Models', y = 'Accuracy', data = final_os_data)"
   ]
  },
  {
   "cell_type": "markdown",
   "id": "cordless-shirt",
   "metadata": {},
   "source": [
    "# **Comparing Model accuracy with and without Oversampling**"
   ]
  },
  {
   "cell_type": "code",
   "execution_count": 97,
   "id": "wrong-latest",
   "metadata": {},
   "outputs": [
    {
     "data": {
      "text/html": [
       "<div>\n",
       "<style scoped>\n",
       "    .dataframe tbody tr th:only-of-type {\n",
       "        vertical-align: middle;\n",
       "    }\n",
       "\n",
       "    .dataframe tbody tr th {\n",
       "        vertical-align: top;\n",
       "    }\n",
       "\n",
       "    .dataframe thead th {\n",
       "        text-align: right;\n",
       "    }\n",
       "</style>\n",
       "<table border=\"1\" class=\"dataframe\">\n",
       "  <thead>\n",
       "    <tr style=\"text-align: right;\">\n",
       "      <th></th>\n",
       "      <th>Models</th>\n",
       "      <th>Accuracy</th>\n",
       "      <th>precision</th>\n",
       "      <th>Recall</th>\n",
       "      <th>F1-Score</th>\n",
       "      <th>Models</th>\n",
       "      <th>Accuracy</th>\n",
       "      <th>precision</th>\n",
       "      <th>Recall</th>\n",
       "      <th>F1-Score</th>\n",
       "    </tr>\n",
       "  </thead>\n",
       "  <tbody>\n",
       "    <tr>\n",
       "      <th>0</th>\n",
       "      <td>LOGI</td>\n",
       "      <td>0.812</td>\n",
       "      <td>0.596273</td>\n",
       "      <td>0.235872</td>\n",
       "      <td>0.338028</td>\n",
       "      <td>LOGI_OS</td>\n",
       "      <td>0.7075</td>\n",
       "      <td>0.374294</td>\n",
       "      <td>0.651106</td>\n",
       "      <td>0.475336</td>\n",
       "    </tr>\n",
       "    <tr>\n",
       "      <th>1</th>\n",
       "      <td>SVC</td>\n",
       "      <td>0.865</td>\n",
       "      <td>0.804444</td>\n",
       "      <td>0.444717</td>\n",
       "      <td>0.572785</td>\n",
       "      <td>SVC_OS</td>\n",
       "      <td>0.8075</td>\n",
       "      <td>0.518836</td>\n",
       "      <td>0.744472</td>\n",
       "      <td>0.611504</td>\n",
       "    </tr>\n",
       "    <tr>\n",
       "      <th>2</th>\n",
       "      <td>KNN</td>\n",
       "      <td>0.840</td>\n",
       "      <td>0.658182</td>\n",
       "      <td>0.444717</td>\n",
       "      <td>0.530792</td>\n",
       "      <td>KNN_OS</td>\n",
       "      <td>0.7455</td>\n",
       "      <td>0.422492</td>\n",
       "      <td>0.683047</td>\n",
       "      <td>0.522066</td>\n",
       "    </tr>\n",
       "    <tr>\n",
       "      <th>3</th>\n",
       "      <td>NB</td>\n",
       "      <td>0.821</td>\n",
       "      <td>0.595331</td>\n",
       "      <td>0.375921</td>\n",
       "      <td>0.460843</td>\n",
       "      <td>NB_OS</td>\n",
       "      <td>0.7170</td>\n",
       "      <td>0.389121</td>\n",
       "      <td>0.685504</td>\n",
       "      <td>0.496441</td>\n",
       "    </tr>\n",
       "  </tbody>\n",
       "</table>\n",
       "</div>"
      ],
      "text/plain": [
       "  Models  Accuracy  precision    Recall  F1-Score   Models  Accuracy  \\\n",
       "0   LOGI     0.812   0.596273  0.235872  0.338028  LOGI_OS    0.7075   \n",
       "1    SVC     0.865   0.804444  0.444717  0.572785   SVC_OS    0.8075   \n",
       "2    KNN     0.840   0.658182  0.444717  0.530792   KNN_OS    0.7455   \n",
       "3     NB     0.821   0.595331  0.375921  0.460843    NB_OS    0.7170   \n",
       "\n",
       "   precision    Recall  F1-Score  \n",
       "0   0.374294  0.651106  0.475336  \n",
       "1   0.518836  0.744472  0.611504  \n",
       "2   0.422492  0.683047  0.522066  \n",
       "3   0.389121  0.685504  0.496441  "
      ]
     },
     "metadata": {},
     "output_type": "display_data"
    }
   ],
   "source": [
    "display(pd.concat([final_data, final_os_data], axis=1))"
   ]
  },
  {
   "cell_type": "markdown",
   "id": "altered-league",
   "metadata": {},
   "source": [
    "# **Conclusion**"
   ]
  },
  {
   "cell_type": "markdown",
   "id": "grateful-warrant",
   "metadata": {},
   "source": [
    "**Support Vector Classification (SVC) Metrics :**\n",
    "\n",
    "**Accuracy : 80.75 %**\n",
    "\n",
    "**Recall : 74.44 %**\n",
    "\n",
    "**Precision : 51.88 %**\n",
    "\n",
    "**F1-Score : 61.15 %**\n",
    "\n",
    "**Based on the provided metrics, SVC outperforms Logistic Regression, KNN and Naive Bayes in all metrics, demonstrating higher Accuracy, Precision, Recall, and F1-Score. It achieves a good balance between precision and recall, making it suitable for our customer churn prediction task.**\n",
    "\n",
    "**While metrics like Accuracy and Precision are essential, Recall is particularly crucial in Customer Churn Prediction, as it indicates the ability to identify customers who are likely to Churn. And Support Vector Classification provided us the best Recall value.**\n",
    "\n"
   ]
  },
  {
   "cell_type": "markdown",
   "id": "brief-valentine",
   "metadata": {},
   "source": [
    "**Hence, we will go with Support Vector Classification (SVC) as our final model as it is quite evident that it performs best for our Bank Customer Churn problem.**"
   ]
  },
  {
   "cell_type": "code",
   "execution_count": null,
   "id": "driving-ceiling",
   "metadata": {},
   "outputs": [],
   "source": []
  }
 ],
 "metadata": {
  "kernelspec": {
   "display_name": "Python 3",
   "language": "python",
   "name": "python3"
  },
  "language_info": {
   "codemirror_mode": {
    "name": "ipython",
    "version": 3
   },
   "file_extension": ".py",
   "mimetype": "text/x-python",
   "name": "python",
   "nbconvert_exporter": "python",
   "pygments_lexer": "ipython3",
   "version": "3.7.8"
  }
 },
 "nbformat": 4,
 "nbformat_minor": 5
}
